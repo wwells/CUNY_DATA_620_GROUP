{
 "cells": [
  {
   "cell_type": "markdown",
   "metadata": {},
   "source": [
    "<h1>Project 3: Gender Name Classifier</h1>\n",
    "\n",
    "<h3> DATA 620 Web Analytics, CUNY Spring 2018 </h3>\n",
    "\n",
    "Team: Andy Carson, Nathan Cooper, Walt Wells"
   ]
  },
  {
   "cell_type": "markdown",
   "metadata": {},
   "source": [
    "<h2> Assignment Details </h2>\n",
    "\n",
    "For this project, please work with the entire class as one collaborative group!Your project should be\n",
    "submitted (as a Jupyter Notebook via GitHub) by end of the due date. The group should present their\n",
    "code and findings in our meetup.\n",
    "\n",
    "<i>The ability to be an effective member of a virtual team is highly valued in the data science job market. </i>\n",
    "\n",
    "\n",
    "-------------------------------------------------------------------------------------------------------------\n",
    "\n",
    "Using any of the three classifiers described in chapter 6 of <b>Natural Language Processing with Python</b>,\n",
    "and any features you can think of, build the best name gender classifier you can.\n",
    "\n",
    "Begin by splitting the Names Corpus into three subsets: 500 words for the test set, 500 words for the devtest\n",
    "set, and the remaining 6900 words for the training set. Then, starting with the example name gender\n",
    "classifier, make incremental improvements. Use the dev-test set to check your progress. Once you are\n",
    "satisfied with your classifier, check its final performance on the test set.\n",
    "\n",
    "How does the performance on the test set compare to the performance on the dev-test set? Is this what\n",
    "you'd expect?\n",
    "\n",
    "Source: Natural Language Processing with Python, exercise 6.10.2.\n",
    "\n"
   ]
  },
  {
   "cell_type": "code",
   "execution_count": 121,
   "metadata": {},
   "outputs": [],
   "source": [
    "#import nltk\n",
    "#nltk.download('names')"
   ]
  },
  {
   "cell_type": "code",
   "execution_count": 122,
   "metadata": {},
   "outputs": [],
   "source": [
    "import nltk\n",
    "from nltk.corpus import names\n",
    "import random\n",
    "from nltk.classify import apply_features\n",
    "import pandas as pd\n",
    "\n",
    "#get data\n",
    "names = ([(name, 'male') for name in names.words('male.txt')] +\n",
    "[(name, 'female') for name in names.words('female.txt')])\n",
    "random.shuffle(names)"
   ]
  },
  {
   "cell_type": "code",
   "execution_count": 123,
   "metadata": {},
   "outputs": [
    {
     "data": {
      "text/plain": [
       "[(u'Konstance', 'female'),\n",
       " (u'Antonella', 'female'),\n",
       " (u'Concordia', 'female'),\n",
       " (u'Giles', 'male'),\n",
       " (u'Roseanna', 'female'),\n",
       " (u'Serge', 'male'),\n",
       " (u'Gavra', 'female'),\n",
       " (u'Huntington', 'male'),\n",
       " (u'Lorine', 'female'),\n",
       " (u'Brooks', 'female')]"
      ]
     },
     "execution_count": 123,
     "metadata": {},
     "output_type": "execute_result"
    }
   ],
   "source": [
    "names[0:10]"
   ]
  },
  {
   "cell_type": "code",
   "execution_count": 124,
   "metadata": {},
   "outputs": [],
   "source": [
    "def gender_features(name):\n",
    "    features = {}\n",
    "    features[\"firstletter\"] = name[0].lower()\n",
    "    features[\"lastletter\"] = name[-1].lower()\n",
    "    for letter in 'abcdefghijklmnopqrstuvwxyz':\n",
    "        features[\"count(%s)\" % letter] = name.lower().count(letter)\n",
    "        features[\"has(%s)\" % letter] = (letter in name.lower())\n",
    "    features[\"suffix2\"] = name[-2].lower()\n",
    "    features[\"last2\"]  = (name[-2].lower() + name[-1].lower()) \n",
    "    return features"
   ]
  },
  {
   "cell_type": "code",
   "execution_count": null,
   "metadata": {},
   "outputs": [],
   "source": []
  },
  {
   "cell_type": "code",
   "execution_count": 125,
   "metadata": {},
   "outputs": [],
   "source": [
    "#split into train, devtest, and test sets\n",
    "featuresets = [(gender_features(n), g) for (n,g) in names]\n",
    "\n",
    "test_set = featuresets[:500] #500\n",
    "dev_test_set = featuresets[500:1000] #500\n",
    "train_set = featuresets[1000:] #6944"
   ]
  },
  {
   "cell_type": "code",
   "execution_count": 126,
   "metadata": {},
   "outputs": [
    {
     "data": {
      "text/plain": [
       "({'count(a)': 1,\n",
       "  'count(b)': 0,\n",
       "  'count(c)': 1,\n",
       "  'count(d)': 0,\n",
       "  'count(e)': 1,\n",
       "  'count(f)': 0,\n",
       "  'count(g)': 0,\n",
       "  'count(h)': 0,\n",
       "  'count(i)': 0,\n",
       "  'count(j)': 0,\n",
       "  'count(k)': 1,\n",
       "  'count(l)': 0,\n",
       "  'count(m)': 0,\n",
       "  'count(n)': 2,\n",
       "  'count(o)': 1,\n",
       "  'count(p)': 0,\n",
       "  'count(q)': 0,\n",
       "  'count(r)': 0,\n",
       "  'count(s)': 1,\n",
       "  'count(t)': 1,\n",
       "  'count(u)': 0,\n",
       "  'count(v)': 0,\n",
       "  'count(w)': 0,\n",
       "  'count(x)': 0,\n",
       "  'count(y)': 0,\n",
       "  'count(z)': 0,\n",
       "  'firstletter': u'k',\n",
       "  'has(a)': True,\n",
       "  'has(b)': False,\n",
       "  'has(c)': True,\n",
       "  'has(d)': False,\n",
       "  'has(e)': True,\n",
       "  'has(f)': False,\n",
       "  'has(g)': False,\n",
       "  'has(h)': False,\n",
       "  'has(i)': False,\n",
       "  'has(j)': False,\n",
       "  'has(k)': True,\n",
       "  'has(l)': False,\n",
       "  'has(m)': False,\n",
       "  'has(n)': True,\n",
       "  'has(o)': True,\n",
       "  'has(p)': False,\n",
       "  'has(q)': False,\n",
       "  'has(r)': False,\n",
       "  'has(s)': True,\n",
       "  'has(t)': True,\n",
       "  'has(u)': False,\n",
       "  'has(v)': False,\n",
       "  'has(w)': False,\n",
       "  'has(x)': False,\n",
       "  'has(y)': False,\n",
       "  'has(z)': False,\n",
       "  'last2': u'ce',\n",
       "  'lastletter': u'e',\n",
       "  'suffix2': u'c'},\n",
       " 'female')"
      ]
     },
     "execution_count": 126,
     "metadata": {},
     "output_type": "execute_result"
    }
   ],
   "source": [
    "featuresets[0]"
   ]
  },
  {
   "cell_type": "code",
   "execution_count": 127,
   "metadata": {},
   "outputs": [],
   "source": [
    "#classify - use NB and DT\n",
    "classifier_NB = nltk.NaiveBayesClassifier.train(train_set)\n",
    "classifier_DT = nltk.DecisionTreeClassifier.train(train_set)"
   ]
  },
  {
   "cell_type": "code",
   "execution_count": 128,
   "metadata": {},
   "outputs": [
    {
     "name": "stdout",
     "output_type": "stream",
     "text": [
      "0.794\n",
      "0.8\n"
     ]
    }
   ],
   "source": [
    "#check accuracy\n",
    "print nltk.classify.accuracy(classifier_NB, dev_test_set) #.784, .786, .794\n",
    "print nltk.classify.accuracy(classifier_DT, dev_test_set) #.766, .766, .8"
   ]
  },
  {
   "cell_type": "code",
   "execution_count": 129,
   "metadata": {},
   "outputs": [
    {
     "name": "stdout",
     "output_type": "stream",
     "text": [
      "Most Informative Features\n",
      "                   last2 = u'na'          female : male   =    154.4 : 1.0\n",
      "                   last2 = u'la'          female : male   =     74.4 : 1.0\n",
      "                   last2 = u'us'            male : female =     62.6 : 1.0\n",
      "                   last2 = u'ia'          female : male   =     37.8 : 1.0\n",
      "                   last2 = u'ld'            male : female =     36.5 : 1.0\n"
     ]
    }
   ],
   "source": [
    "#show important features\n",
    "classifier_NB.show_most_informative_features(5)\n"
   ]
  },
  {
   "cell_type": "code",
   "execution_count": 130,
   "metadata": {},
   "outputs": [
    {
     "data": {
      "text/plain": [
       "(u'Laila', 'female')"
      ]
     },
     "execution_count": 130,
     "metadata": {},
     "output_type": "execute_result"
    }
   ],
   "source": [
    "#check errors\n",
    "dev_test_names = names[500:1000]\n",
    "dev_test_names[0]\n"
   ]
  },
  {
   "cell_type": "code",
   "execution_count": 131,
   "metadata": {},
   "outputs": [],
   "source": [
    "errors = []\n",
    "for (name, tag) in dev_test_names:\n",
    "    guess = classifier_NB.classify(gender_features(name))\n",
    "    if guess != tag:\n",
    "        errors.append( (tag, guess, name) )"
   ]
  },
  {
   "cell_type": "code",
   "execution_count": 132,
   "metadata": {},
   "outputs": [
    {
     "name": "stdout",
     "output_type": "stream",
     "text": [
      "Error count: 103\n"
     ]
    }
   ],
   "source": [
    "print \"Error count: \" + str(len(errors))"
   ]
  },
  {
   "cell_type": "code",
   "execution_count": 133,
   "metadata": {},
   "outputs": [],
   "source": [
    "#all\n",
    "all_guesses = []\n",
    "for (name, tag) in dev_test_names:\n",
    "    guess = classifier_NB.classify(gender_features(name))\n",
    "    all_guesses.append( (tag, guess, name) )"
   ]
  },
  {
   "cell_type": "code",
   "execution_count": 134,
   "metadata": {},
   "outputs": [],
   "source": [
    "#make dataframe\n",
    "all_guesses_pd = pd.DataFrame(all_guesses)"
   ]
  },
  {
   "cell_type": "code",
   "execution_count": null,
   "metadata": {},
   "outputs": [],
   "source": []
  },
  {
   "cell_type": "code",
   "execution_count": 135,
   "metadata": {},
   "outputs": [
    {
     "name": "stdout",
     "output_type": "stream",
     "text": [
      "       |   f     |\n",
      "       |   e     |\n",
      "       |   m   m |\n",
      "       |   a   a |\n",
      "       |   l   l |\n",
      "       |   e   e |\n",
      "-------+---------+\n",
      "female |<260> 65 |\n",
      "  male |  38<137>|\n",
      "-------+---------+\n",
      "(row = reference; col = test)\n",
      "\n"
     ]
    }
   ],
   "source": [
    "#confusion matrix\n",
    "print nltk.ConfusionMatrix(list(all_guesses_pd[:][0]), list(all_guesses_pd[:][1]))"
   ]
  },
  {
   "cell_type": "code",
   "execution_count": 136,
   "metadata": {},
   "outputs": [
    {
     "name": "stdout",
     "output_type": "stream",
     "text": [
      "correct=female   guess=male     name=Barby                         \n",
      "correct=female   guess=male     name=Beau                          \n",
      "correct=female   guess=male     name=Brett                         \n",
      "correct=female   guess=male     name=Caro                          \n",
      "correct=female   guess=male     name=Charo                         \n",
      "correct=female   guess=male     name=Chriss                        \n",
      "correct=female   guess=male     name=Christel                      \n",
      "correct=female   guess=male     name=Christin                      \n",
      "correct=female   guess=male     name=Cody                          \n",
      "correct=female   guess=male     name=Constance                     \n",
      "correct=female   guess=male     name=Cortney                       \n",
      "correct=female   guess=male     name=Daveen                        \n",
      "correct=female   guess=male     name=Devin                         \n",
      "correct=female   guess=male     name=Doreen                        \n",
      "correct=female   guess=male     name=Edin                          \n",
      "correct=female   guess=male     name=Evey                          \n",
      "correct=female   guess=male     name=Fleur                         \n",
      "correct=female   guess=male     name=Frances                       \n",
      "correct=female   guess=male     name=Francis                       \n",
      "correct=female   guess=male     name=Georgiamay                    \n",
      "correct=female   guess=male     name=Germain                       \n",
      "correct=female   guess=male     name=Gertrudis                     \n",
      "correct=female   guess=male     name=Gretal                        \n",
      "correct=female   guess=male     name=Gus                           \n",
      "correct=female   guess=male     name=Gussy                         \n",
      "correct=female   guess=male     name=Gustie                        \n",
      "correct=female   guess=male     name=Hazel                         \n",
      "correct=female   guess=male     name=Inez                          \n",
      "correct=female   guess=male     name=Ingrid                        \n",
      "correct=female   guess=male     name=Isabeau                       \n",
      "correct=female   guess=male     name=Jerry                         \n",
      "correct=female   guess=male     name=Jewel                         \n",
      "correct=female   guess=male     name=Jo                            \n",
      "correct=female   guess=male     name=Joyous                        \n",
      "correct=female   guess=male     name=Kippy                         \n",
      "correct=female   guess=male     name=Kirstin                       \n",
      "correct=female   guess=male     name=Kristen                       \n",
      "correct=female   guess=male     name=Lauren                        \n",
      "correct=female   guess=male     name=Loren                         \n",
      "correct=female   guess=male     name=Lorrin                        \n",
      "correct=female   guess=male     name=Lory                          \n",
      "correct=female   guess=male     name=Malory                        \n",
      "correct=female   guess=male     name=Marry                         \n",
      "correct=female   guess=male     name=Meggy                         \n",
      "correct=female   guess=male     name=Mercy                         \n",
      "correct=female   guess=male     name=Mureil                        \n",
      "correct=female   guess=male     name=Nan                           \n",
      "correct=female   guess=male     name=Norah                         \n",
      "correct=female   guess=male     name=Norry                         \n",
      "correct=female   guess=male     name=Pier                          \n",
      "correct=female   guess=male     name=Prue                          \n",
      "correct=female   guess=male     name=Rakel                         \n",
      "correct=female   guess=male     name=Rebekkah                      \n",
      "correct=female   guess=male     name=Rozalin                       \n",
      "correct=female   guess=male     name=Ruthe                         \n",
      "correct=female   guess=male     name=Scotty                        \n",
      "correct=female   guess=male     name=Shannen                       \n",
      "correct=female   guess=male     name=Shawnee                       \n",
      "correct=female   guess=male     name=Sophey                        \n",
      "correct=female   guess=male     name=Suzan                         \n",
      "correct=female   guess=male     name=Suzann                        \n",
      "correct=female   guess=male     name=Suzie                         \n",
      "correct=female   guess=male     name=Sydel                         \n",
      "correct=female   guess=male     name=Tootsie                       \n",
      "correct=female   guess=male     name=Willie                        \n",
      "correct=male     guess=female   name=Allie                         \n",
      "correct=male     guess=female   name=Arel                          \n",
      "correct=male     guess=female   name=Augustine                     \n",
      "correct=male     guess=female   name=Avi                           \n",
      "correct=male     guess=female   name=Baily                         \n",
      "correct=male     guess=female   name=Bealle                        \n",
      "correct=male     guess=female   name=Billy                         \n",
      "correct=male     guess=female   name=Blare                         \n",
      "correct=male     guess=female   name=Carlie                        \n",
      "correct=male     guess=female   name=Cass                          \n",
      "correct=male     guess=female   name=Danie                         \n",
      "correct=male     guess=female   name=Eliott                        \n",
      "correct=male     guess=female   name=Etienne                       \n",
      "correct=male     guess=female   name=Gerri                         \n",
      "correct=male     guess=female   name=Immanuel                      \n",
      "correct=male     guess=female   name=Jedediah                      \n",
      "correct=male     guess=female   name=Jere                          \n",
      "correct=male     guess=female   name=Kelly                         \n",
      "correct=male     guess=female   name=Krishna                       \n",
      "correct=male     guess=female   name=Kyle                          \n",
      "correct=male     guess=female   name=Lee                           \n",
      "correct=male     guess=female   name=Lefty                         \n",
      "correct=male     guess=female   name=Levin                         \n",
      "correct=male     guess=female   name=Lindsay                       \n",
      "correct=male     guess=female   name=Marchall                      \n",
      "correct=male     guess=female   name=Martin                        \n",
      "correct=male     guess=female   name=Meredith                      \n",
      "correct=male     guess=female   name=Morlee                        \n",
      "correct=male     guess=female   name=Nathanial                     \n",
      "correct=male     guess=female   name=Nelsen                        \n",
      "correct=male     guess=female   name=Pail                          \n",
      "correct=male     guess=female   name=Rafael                        \n",
      "correct=male     guess=female   name=Randy                         \n",
      "correct=male     guess=female   name=Scottie                       \n",
      "correct=male     guess=female   name=Skelly                        \n",
      "correct=male     guess=female   name=Stevie                        \n",
      "correct=male     guess=female   name=Vale                          \n",
      "correct=male     guess=female   name=Vasilis                       \n"
     ]
    }
   ],
   "source": [
    "for (tag, guess, name) in sorted(errors): # doctest: +ELLIPSIS +NORMALIZE_WHITESPACE\n",
    "    print 'correct=%-8s guess=%-8s name=%-30s' % (tag, guess, name)"
   ]
  },
  {
   "cell_type": "code",
   "execution_count": 137,
   "metadata": {},
   "outputs": [
    {
     "name": "stdout",
     "output_type": "stream",
     "text": [
      "0.786\n",
      "0.758\n"
     ]
    }
   ],
   "source": [
    "#check test accuracy\n",
    "print nltk.classify.accuracy(classifier_NB, test_set) #.786\n",
    "print nltk.classify.accuracy(classifier_DT, test_set) #.758"
   ]
  },
  {
   "cell_type": "code",
   "execution_count": null,
   "metadata": {},
   "outputs": [],
   "source": []
  },
  {
   "cell_type": "markdown",
   "metadata": {},
   "source": [
    "<b>Question:</b>\n",
    "\n",
    "How does the performance on the test set compare to the performance on the dev-test set? Is this what you'd expect?\n",
    "\n",
    "<b>Answer:</b>\n",
    "\n",
    "It is generally going to be lower, because we are going to be optimizing against the dev-test set, which means we will probably be overfitting a little and our results will not generalize well to data our model hasn't seen before (the test set).  However, if we are doing a good job and not overfitting too much, it won't be significantly lower."
   ]
  }
 ],
 "metadata": {
  "kernelspec": {
   "display_name": "Python 2",
   "language": "python",
   "name": "python2"
  },
  "language_info": {
   "codemirror_mode": {
    "name": "ipython",
    "version": 2
   },
   "file_extension": ".py",
   "mimetype": "text/x-python",
   "name": "python",
   "nbconvert_exporter": "python",
   "pygments_lexer": "ipython2",
   "version": "2.7.15"
  }
 },
 "nbformat": 4,
 "nbformat_minor": 2
}
