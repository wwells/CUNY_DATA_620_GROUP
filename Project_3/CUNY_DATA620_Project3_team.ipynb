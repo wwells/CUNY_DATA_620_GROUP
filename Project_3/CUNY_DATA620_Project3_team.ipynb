{
 "cells": [
  {
   "cell_type": "markdown",
   "metadata": {},
   "source": [
    "<h1>Project 3: Gender Name Classifier</h1>\n",
    "\n",
    "<h3> DATA 620 Web Analytics, CUNY Spring 2018 </h3>\n",
    "\n",
    "Team: Andy Carson, Nathan Cooper, Walt Wells"
   ]
  },
  {
   "cell_type": "markdown",
   "metadata": {},
   "source": [
    "<h2> Assignment Details </h2>\n",
    "\n",
    "For this project, please work with the entire class as one collaborative group!Your project should be\n",
    "submitted (as a Jupyter Notebook via GitHub) by end of the due date. The group should present their\n",
    "code and findings in our meetup.\n",
    "\n",
    "<i>The ability to be an effective member of a virtual team is highly valued in the data science job market. </i>\n",
    "\n",
    "\n",
    "-------------------------------------------------------------------------------------------------------------\n",
    "\n",
    "Using any of the three classifiers described in chapter 6 of <b>Natural Language Processing with Python</b>,\n",
    "and any features you can think of, build the best name gender classifier you can.\n",
    "\n",
    "Begin by splitting the Names Corpus into three subsets: 500 words for the test set, 500 words for the devtest\n",
    "set, and the remaining 6900 words for the training set. Then, starting with the example name gender\n",
    "classifier, make incremental improvements. Use the dev-test set to check your progress. Once you are\n",
    "satisfied with your classifier, check its final performance on the test set.\n",
    "\n",
    "How does the performance on the test set compare to the performance on the dev-test set? Is this what\n",
    "you'd expect?\n",
    "\n",
    "Source: Natural Language Processing with Python, exercise 6.10.2.\n",
    "\n"
   ]
  },
  {
   "cell_type": "code",
   "execution_count": 1,
   "metadata": {},
   "outputs": [],
   "source": [
    "#import nltk\n",
    "#nltk.download('names')"
   ]
  },
  {
   "cell_type": "code",
   "execution_count": 80,
   "metadata": {},
   "outputs": [],
   "source": [
    "import nltk\n",
    "from nltk.corpus import names\n",
    "import random\n",
    "from nltk.classify import apply_features\n",
    "import pandas as pd\n",
    "\n"
   ]
  },
  {
   "cell_type": "code",
   "execution_count": 81,
   "metadata": {},
   "outputs": [],
   "source": [
    "#get data\n",
    "names = ([(name, 'male') for name in names.words('male.txt')] +\n",
    "[(name, 'female') for name in names.words('female.txt')])\n",
    "random.shuffle(names)"
   ]
  },
  {
   "cell_type": "code",
   "execution_count": 82,
   "metadata": {},
   "outputs": [
    {
     "data": {
      "text/plain": [
       "[(u'Olga', 'female'),\n",
       " (u'Tommy', 'male'),\n",
       " (u'Son', 'male'),\n",
       " (u'Ursala', 'female'),\n",
       " (u'Phillipe', 'male'),\n",
       " (u'Dillon', 'male'),\n",
       " (u'Charity', 'female'),\n",
       " (u'Brett', 'male'),\n",
       " (u'Rockwell', 'male'),\n",
       " (u'Jillane', 'female')]"
      ]
     },
     "execution_count": 82,
     "metadata": {},
     "output_type": "execute_result"
    }
   ],
   "source": [
    "names[0:10]"
   ]
  },
  {
   "cell_type": "code",
   "execution_count": 83,
   "metadata": {},
   "outputs": [],
   "source": [
    "#code pulled from NLP and from various sources online\n",
    "#modified appropriately\n",
    "def gender_features(name):\n",
    "    features = {}\n",
    "    features[\"firstletter\"] = name[0].lower()\n",
    "    features[\"lastletter\"] = name[-1].lower()\n",
    "    features[\"last_is_vowel\"] = (name[-1] in 'aeiouy')\n",
    "    for letter in 'abcdefghijklmnopqrstuvwxyz':\n",
    "        features[\"count(%s)\" % letter] = name.lower().count(letter)\n",
    "        features[\"has(%s)\" % letter] = (letter in name.lower())\n",
    "        features[\"first(%s)\" % letter] = name.lower().find(letter)\n",
    "    features[\"suffix2\"] = name[-2].lower()\n",
    "    features[\"last2\"]  = (name[-2].lower() + name[-1].lower())\n",
    "    if len(name) >= 3:\n",
    "        features[\"last3\"] = (name[-3].lower() + name[-2].lower() + name[-1].lower())\n",
    "    else:\n",
    "        features[\"last3\"] = (\" \" + name[-2].lower() + name[-1].lower())\n",
    "    features[\"length\"] = len(name)\n",
    "    return features"
   ]
  },
  {
   "cell_type": "code",
   "execution_count": null,
   "metadata": {},
   "outputs": [],
   "source": []
  },
  {
   "cell_type": "code",
   "execution_count": 84,
   "metadata": {},
   "outputs": [],
   "source": [
    "#split into train, devtest, and test sets\n",
    "featuresets = [(gender_features(n), g) for (n,g) in names]\n",
    "\n",
    "test_set = featuresets[:500] #500\n",
    "dev_test_set = featuresets[500:1000] #500\n",
    "train_set = featuresets[1000:] #6944"
   ]
  },
  {
   "cell_type": "code",
   "execution_count": 85,
   "metadata": {},
   "outputs": [
    {
     "data": {
      "text/plain": [
       "({'count(a)': 1,\n",
       "  'count(b)': 0,\n",
       "  'count(c)': 0,\n",
       "  'count(d)': 0,\n",
       "  'count(e)': 0,\n",
       "  'count(f)': 0,\n",
       "  'count(g)': 1,\n",
       "  'count(h)': 0,\n",
       "  'count(i)': 0,\n",
       "  'count(j)': 0,\n",
       "  'count(k)': 0,\n",
       "  'count(l)': 1,\n",
       "  'count(m)': 0,\n",
       "  'count(n)': 0,\n",
       "  'count(o)': 1,\n",
       "  'count(p)': 0,\n",
       "  'count(q)': 0,\n",
       "  'count(r)': 0,\n",
       "  'count(s)': 0,\n",
       "  'count(t)': 0,\n",
       "  'count(u)': 0,\n",
       "  'count(v)': 0,\n",
       "  'count(w)': 0,\n",
       "  'count(x)': 0,\n",
       "  'count(y)': 0,\n",
       "  'count(z)': 0,\n",
       "  'first(a)': 3,\n",
       "  'first(b)': -1,\n",
       "  'first(c)': -1,\n",
       "  'first(d)': -1,\n",
       "  'first(e)': -1,\n",
       "  'first(f)': -1,\n",
       "  'first(g)': 2,\n",
       "  'first(h)': -1,\n",
       "  'first(i)': -1,\n",
       "  'first(j)': -1,\n",
       "  'first(k)': -1,\n",
       "  'first(l)': 1,\n",
       "  'first(m)': -1,\n",
       "  'first(n)': -1,\n",
       "  'first(o)': 0,\n",
       "  'first(p)': -1,\n",
       "  'first(q)': -1,\n",
       "  'first(r)': -1,\n",
       "  'first(s)': -1,\n",
       "  'first(t)': -1,\n",
       "  'first(u)': -1,\n",
       "  'first(v)': -1,\n",
       "  'first(w)': -1,\n",
       "  'first(x)': -1,\n",
       "  'first(y)': -1,\n",
       "  'first(z)': -1,\n",
       "  'firstletter': u'o',\n",
       "  'has(a)': True,\n",
       "  'has(b)': False,\n",
       "  'has(c)': False,\n",
       "  'has(d)': False,\n",
       "  'has(e)': False,\n",
       "  'has(f)': False,\n",
       "  'has(g)': True,\n",
       "  'has(h)': False,\n",
       "  'has(i)': False,\n",
       "  'has(j)': False,\n",
       "  'has(k)': False,\n",
       "  'has(l)': True,\n",
       "  'has(m)': False,\n",
       "  'has(n)': False,\n",
       "  'has(o)': True,\n",
       "  'has(p)': False,\n",
       "  'has(q)': False,\n",
       "  'has(r)': False,\n",
       "  'has(s)': False,\n",
       "  'has(t)': False,\n",
       "  'has(u)': False,\n",
       "  'has(v)': False,\n",
       "  'has(w)': False,\n",
       "  'has(x)': False,\n",
       "  'has(y)': False,\n",
       "  'has(z)': False,\n",
       "  'last2': u'ga',\n",
       "  'last3': u'lga',\n",
       "  'last_is_vowel': True,\n",
       "  'lastletter': u'a',\n",
       "  'length': 4,\n",
       "  'suffix2': u'g'},\n",
       " 'female')"
      ]
     },
     "execution_count": 85,
     "metadata": {},
     "output_type": "execute_result"
    }
   ],
   "source": [
    "featuresets[0]"
   ]
  },
  {
   "cell_type": "code",
   "execution_count": 86,
   "metadata": {},
   "outputs": [],
   "source": [
    "#classify - use NB and DT\n",
    "classifier_NB = nltk.NaiveBayesClassifier.train(train_set)\n",
    "classifier_DT = nltk.DecisionTreeClassifier.train(train_set)"
   ]
  },
  {
   "cell_type": "code",
   "execution_count": 87,
   "metadata": {},
   "outputs": [
    {
     "name": "stdout",
     "output_type": "stream",
     "text": [
      "0.816\n",
      "0.734\n"
     ]
    }
   ],
   "source": [
    "#check accuracy\n",
    "print nltk.classify.accuracy(classifier_NB, dev_test_set) #.784, .786, .794, 0.804, 0.826, 0.786, 0.826, 0.816\n",
    "print nltk.classify.accuracy(classifier_DT, dev_test_set) #.766, .766, .8, 0.738, 0.744, 0.726, 0.742, 0.734"
   ]
  },
  {
   "cell_type": "code",
   "execution_count": 88,
   "metadata": {},
   "outputs": [
    {
     "name": "stdout",
     "output_type": "stream",
     "text": [
      "Most Informative Features\n",
      "                   last2 = u'na'          female : male   =     94.0 : 1.0\n",
      "                   last2 = u'la'          female : male   =     69.2 : 1.0\n",
      "              lastletter = u'k'             male : female =     41.7 : 1.0\n",
      "                   last2 = u'ld'            male : female =     37.1 : 1.0\n",
      "                   last2 = u'ia'          female : male   =     35.8 : 1.0\n"
     ]
    }
   ],
   "source": [
    "#show important features\n",
    "classifier_NB.show_most_informative_features(5)\n"
   ]
  },
  {
   "cell_type": "code",
   "execution_count": 89,
   "metadata": {},
   "outputs": [
    {
     "data": {
      "text/plain": [
       "(u'Jacklyn', 'female')"
      ]
     },
     "execution_count": 89,
     "metadata": {},
     "output_type": "execute_result"
    }
   ],
   "source": [
    "#check errors\n",
    "dev_test_names = names[500:1000]\n",
    "dev_test_names[0]\n"
   ]
  },
  {
   "cell_type": "code",
   "execution_count": 90,
   "metadata": {},
   "outputs": [],
   "source": [
    "errors = []\n",
    "for (name, tag) in dev_test_names:\n",
    "    guess = classifier_NB.classify(gender_features(name))\n",
    "    if guess != tag:\n",
    "        errors.append( (tag, guess, name) )"
   ]
  },
  {
   "cell_type": "code",
   "execution_count": 91,
   "metadata": {},
   "outputs": [
    {
     "name": "stdout",
     "output_type": "stream",
     "text": [
      "Error count: 92\n"
     ]
    }
   ],
   "source": [
    "print \"Error count: \" + str(len(errors)) #87, 107, 87, 92"
   ]
  },
  {
   "cell_type": "code",
   "execution_count": 92,
   "metadata": {},
   "outputs": [],
   "source": [
    "#all\n",
    "all_guesses = []\n",
    "for (name, tag) in dev_test_names:\n",
    "    guess = classifier_NB.classify(gender_features(name))\n",
    "    all_guesses.append( (tag, guess, name) )"
   ]
  },
  {
   "cell_type": "code",
   "execution_count": 93,
   "metadata": {},
   "outputs": [],
   "source": [
    "#make dataframe\n",
    "all_guesses_pd = pd.DataFrame(all_guesses)"
   ]
  },
  {
   "cell_type": "code",
   "execution_count": null,
   "metadata": {},
   "outputs": [],
   "source": []
  },
  {
   "cell_type": "code",
   "execution_count": 94,
   "metadata": {},
   "outputs": [
    {
     "name": "stdout",
     "output_type": "stream",
     "text": [
      "       |   f     |\n",
      "       |   e     |\n",
      "       |   m   m |\n",
      "       |   a   a |\n",
      "       |   l   l |\n",
      "       |   e   e |\n",
      "-------+---------+\n",
      "female |<256> 50 |\n",
      "  male |  42<152>|\n",
      "-------+---------+\n",
      "(row = reference; col = test)\n",
      "\n"
     ]
    }
   ],
   "source": [
    "#confusion matrix\n",
    "print nltk.ConfusionMatrix(list(all_guesses_pd[:][0]), list(all_guesses_pd[:][1]))"
   ]
  },
  {
   "cell_type": "code",
   "execution_count": 95,
   "metadata": {},
   "outputs": [
    {
     "name": "stdout",
     "output_type": "stream",
     "text": [
      "correct=female   guess=male     name=Adrian                        \n",
      "correct=female   guess=male     name=Aigneis                       \n",
      "correct=female   guess=male     name=Berty                         \n",
      "correct=female   guess=male     name=Bren                          \n",
      "correct=female   guess=male     name=Cam                           \n",
      "correct=female   guess=male     name=Cinnamon                      \n",
      "correct=female   guess=male     name=Clair                         \n",
      "correct=female   guess=male     name=Corliss                       \n",
      "correct=female   guess=male     name=Darb                          \n",
      "correct=female   guess=male     name=Dix                           \n",
      "correct=female   guess=male     name=Elspeth                       \n",
      "correct=female   guess=male     name=Fan                           \n",
      "correct=female   guess=male     name=Flore                         \n",
      "correct=female   guess=male     name=Floris                        \n",
      "correct=female   guess=male     name=Florry                        \n",
      "correct=female   guess=male     name=Gray                          \n",
      "correct=female   guess=male     name=Gretel                        \n",
      "correct=female   guess=male     name=Grethel                       \n",
      "correct=female   guess=male     name=Gwenneth                      \n",
      "correct=female   guess=male     name=Halley                        \n",
      "correct=female   guess=male     name=Ikey                          \n",
      "correct=female   guess=male     name=Isobel                        \n",
      "correct=female   guess=male     name=Izabel                        \n",
      "correct=female   guess=male     name=Jen                           \n",
      "correct=female   guess=male     name=Judy                          \n",
      "correct=female   guess=male     name=Kipp                          \n",
      "correct=female   guess=male     name=Kristin                       \n",
      "correct=female   guess=male     name=Loren                         \n",
      "correct=female   guess=male     name=Lorrin                        \n",
      "correct=female   guess=male     name=Marigold                      \n",
      "correct=female   guess=male     name=Maryrose                      \n",
      "correct=female   guess=male     name=Meagan                        \n",
      "correct=female   guess=male     name=Megen                         \n",
      "correct=female   guess=male     name=Oprah                         \n",
      "correct=female   guess=male     name=Peg                           \n",
      "correct=female   guess=male     name=Polly                         \n",
      "correct=female   guess=male     name=Rachael                       \n",
      "correct=female   guess=male     name=Raynell                       \n",
      "correct=female   guess=male     name=Rayshell                      \n",
      "correct=female   guess=male     name=Rhiamon                       \n",
      "correct=female   guess=male     name=Robinett                      \n",
      "correct=female   guess=male     name=Rosalind                      \n",
      "correct=female   guess=male     name=Rosamund                      \n",
      "correct=female   guess=male     name=Roselin                       \n",
      "correct=female   guess=male     name=Rosemary                      \n",
      "correct=female   guess=male     name=Sherill                       \n",
      "correct=female   guess=male     name=Shirley                       \n",
      "correct=female   guess=male     name=Storm                         \n",
      "correct=female   guess=male     name=Tracy                         \n",
      "correct=female   guess=male     name=Veronike                      \n",
      "correct=male     guess=female   name=Aditya                        \n",
      "correct=male     guess=female   name=Allen                         \n",
      "correct=male     guess=female   name=Andie                         \n",
      "correct=male     guess=female   name=Andri                         \n",
      "correct=male     guess=female   name=Angie                         \n",
      "correct=male     guess=female   name=Antonin                       \n",
      "correct=male     guess=female   name=Aristotle                     \n",
      "correct=male     guess=female   name=Averil                        \n",
      "correct=male     guess=female   name=Baily                         \n",
      "correct=male     guess=female   name=Beale                         \n",
      "correct=male     guess=female   name=Benjy                         \n",
      "correct=male     guess=female   name=Bjorne                        \n",
      "correct=male     guess=female   name=Blayne                        \n",
      "correct=male     guess=female   name=Charlie                       \n",
      "correct=male     guess=female   name=Claude                        \n",
      "correct=male     guess=female   name=Donny                         \n",
      "correct=male     guess=female   name=Dwane                         \n",
      "correct=male     guess=female   name=Ezra                          \n",
      "correct=male     guess=female   name=Filipe                        \n",
      "correct=male     guess=female   name=Gabriele                      \n",
      "correct=male     guess=female   name=Gale                          \n",
      "correct=male     guess=female   name=Guillaume                     \n",
      "correct=male     guess=female   name=Herrmann                      \n",
      "correct=male     guess=female   name=Jaime                         \n",
      "correct=male     guess=female   name=Jerrie                        \n",
      "correct=male     guess=female   name=Jodie                         \n",
      "correct=male     guess=female   name=Kenneth                       \n",
      "correct=male     guess=female   name=Kermie                        \n",
      "correct=male     guess=female   name=Martyn                        \n",
      "correct=male     guess=female   name=Mendie                        \n",
      "correct=male     guess=female   name=Millicent                     \n",
      "correct=male     guess=female   name=Moishe                        \n",
      "correct=male     guess=female   name=Niki                          \n",
      "correct=male     guess=female   name=Normie                        \n",
      "correct=male     guess=female   name=Paige                         \n",
      "correct=male     guess=female   name=Randi                         \n",
      "correct=male     guess=female   name=Siddhartha                    \n",
      "correct=male     guess=female   name=Tremaine                      \n",
      "correct=male     guess=female   name=Vasily                        \n",
      "correct=male     guess=female   name=Vinny                         \n",
      "correct=male     guess=female   name=Vite                          \n",
      "correct=male     guess=female   name=Waite                         \n"
     ]
    }
   ],
   "source": [
    "for (tag, guess, name) in sorted(errors): # doctest: +ELLIPSIS +NORMALIZE_WHITESPACE\n",
    "    print 'correct=%-8s guess=%-8s name=%-30s' % (tag, guess, name)"
   ]
  },
  {
   "cell_type": "code",
   "execution_count": 96,
   "metadata": {},
   "outputs": [
    {
     "name": "stdout",
     "output_type": "stream",
     "text": [
      "0.818\n",
      "0.73\n"
     ]
    }
   ],
   "source": [
    "#check test accuracy\n",
    "print nltk.classify.accuracy(classifier_NB, test_set) #.786, 0.79, 0.822, 0.812, 0.818\n",
    "print nltk.classify.accuracy(classifier_DT, test_set) #.758, 0.724, 0.754, 0.738, 0.73"
   ]
  },
  {
   "cell_type": "code",
   "execution_count": null,
   "metadata": {},
   "outputs": [],
   "source": []
  },
  {
   "cell_type": "markdown",
   "metadata": {},
   "source": [
    "<b>Question:</b>\n",
    "\n",
    "How does the performance on the test set compare to the performance on the dev-test set? Is this what you'd expect?\n",
    "\n",
    "<b>Answer:</b>\n",
    "\n",
    "It is generally going to be lower, because we are going to be optimizing against the dev-test set, which means we will probably be overfitting a little and our results will not generalize well to data our model hasn't seen before (the test set).  However, if we are doing a good job and not overfitting too much, it won't be significantly lower."
   ]
  }
 ],
 "metadata": {
  "kernelspec": {
   "display_name": "Python 2",
   "language": "python",
   "name": "python2"
  },
  "language_info": {
   "codemirror_mode": {
    "name": "ipython",
    "version": 2
   },
   "file_extension": ".py",
   "mimetype": "text/x-python",
   "name": "python",
   "nbconvert_exporter": "python",
   "pygments_lexer": "ipython2",
   "version": "2.7.15"
  }
 },
 "nbformat": 4,
 "nbformat_minor": 2
}
