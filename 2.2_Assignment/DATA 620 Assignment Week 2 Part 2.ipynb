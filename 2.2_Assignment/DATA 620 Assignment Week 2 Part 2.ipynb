{
 "cells": [
  {
   "cell_type": "markdown",
   "metadata": {},
   "source": [
    "<h1>DATA 620 Assignment Week 2 Part 2</h1>\n",
    "\n",
    "CUNY Data 620 - Web Analytics, Summer 2018\n",
    "\n",
    "Prof: Alain Ledon \n",
    "\n",
    "Members: Andrew Carson, Nathaniel Cooper, Eleanor Romero-Secoquian, Walt Wells"
   ]
  },
  {
   "cell_type": "markdown",
   "metadata": {},
   "source": [
    "<h2>Assignment</h2>\n",
    "\n",
    "Centrality measures can be used to predict (positive or negative) outcomes for a node. Your task in this week’s assignment is to identify an interesting set of network data that is available on the web (either through web scraping or web APIs) that could be used for analyzing and comparing centrality measures across nodes.  As an additional constraint, there should be at least one categorical variable available for each node (such as “Male” or “Female”; “Republican”, “Democrat,” or “Undecided”, etc.)\n",
    "\n",
    "In addition to identifying your data source, you should create a high level plan that describes how you would load the data for analysis, and describe a hypothetical outcome that could be predicted from comparing degree centrality across categorical groups. For this week’s assignment, you are not required to actually load or analyze the data.  Please see also Project 1 below.\n",
    "\n",
    "You may work in a small group on the assignment.   You should post your document to GitHub by end of day on Monday 6/18."
   ]
  },
  {
   "cell_type": "markdown",
   "metadata": {},
   "source": [
    "<h2>Solution</h2>\n",
    "\n",
    "<h3>Data</h3>\n",
    "\n",
    "We will be using data from the Stanfor Network Analysis Project (SNAP).  In particular, we will be using the \"Bitcoin OTC trust weighted signed network\" data, located <a href =\"https://snap.stanford.edu/data/soc-sign-bitcoinotc.html\">here</a>.  THe data consists of 5,881 nodes, 35,592 edges, and edge weights from -10 to 10 that indicate the trust rating of members.  \n",
    "\n",
    "As the website itself says, \"This is who-trusts-whom network of people who trade using Bitcoin on a platform called Bitcoin OTC. Since Bitcoin users are anonymous, there is a need to maintain a record of users' reputation to prevent transactions with fraudulent and risky users. Members of Bitcoin OTC rate other members in a scale of -10 (total distrust) to +10 (total trust) in steps of 1. This is the first explicit weighted signed directed network available for research.\" (Bitcoin, 2018)\n",
    "\n",
    "The data is stored in a \".csv.gz\" file accessible and downloadable from the website.  Each line has:SOURCE, TARGET, RATING, TIME.  \n",
    "\n",
    "SOURCE: the node id of the source, that is, the user doing the rating.\n",
    "\n",
    "TARGET: the node id of the target, that is, the user being rated.\n",
    "\n",
    "RATING: the rating assigned by the source to the target, from -10 to 10, in integers only.\n",
    "\n",
    "TIME: the time that rating occured as measured in seconds since Epoch.\n",
    "\n",
    "We will use the RATING variable in a categorical manner, where RATING >= 0 is Positive and RATING < 0 is Negative.  Consequently, the RATING can be treated as a binary categorical variable."
   ]
  },
  {
   "cell_type": "markdown",
   "metadata": {},
   "source": [
    "<h3> High Level Plan </h3>\n",
    "\n",
    "We will download the .csv.gz file from the source page, extract it using 7zip or another tool, and then load the .csv file into a Jupyter notebook.  From there we will use the <i>networkx</i> package to do the analysis.\n",
    "\n",
    "We believe that those TARGET nodes that have positive trust associated with them will have higher degree centrality on average as compared with those TARGET nodes that have negative trust.  It seems reasonable that a SOURCE user will connect only with other TARGET users that the SOURCE user trusts, and so a connection will not be established if there is little trust of a TARGET user.  Hence, a TARGET user that is well trusted will likely have many connections, and consequentially, a higher degree centrality, than others.\n"
   ]
  },
  {
   "cell_type": "markdown",
   "metadata": {},
   "source": [
    "<h3>Citation</h3>\n",
    "\n",
    "Bitcoin OTC trust weighted signed network (2018). Retrieved from https://snap.stanford.edu/data/soc-sign-bitcoinotc.html.\n",
    "\n",
    "S. Kumar, F. Spezzano, V.S. Subrahmanian, C. Faloutsos. Edge Weight Prediction in Weighted Signed Networks. IEEE International Conference on Data Mining (ICDM), 2016."
   ]
  }
 ],
 "metadata": {
  "kernelspec": {
   "display_name": "Python 2",
   "language": "python",
   "name": "python2"
  },
  "language_info": {
   "codemirror_mode": {
    "name": "ipython",
    "version": 2
   },
   "file_extension": ".py",
   "mimetype": "text/x-python",
   "name": "python",
   "nbconvert_exporter": "python",
   "pygments_lexer": "ipython2",
   "version": "2.7.13"
  }
 },
 "nbformat": 4,
 "nbformat_minor": 2
}
