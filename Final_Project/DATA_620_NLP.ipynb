{
 "cells": [
  {
   "cell_type": "code",
   "execution_count": 1,
   "metadata": {},
   "outputs": [],
   "source": [
    "from bs4 import BeautifulSoup \n",
    "import re\n",
    "import urllib \n",
    "import requests\n",
    "import string\n",
    "import pandas as pd"
   ]
  },
  {
   "cell_type": "code",
   "execution_count": 34,
   "metadata": {},
   "outputs": [
    {
     "name": "stdout",
     "output_type": "stream",
     "text": [
      "['1st and 1st', 'anti-dentite', 'babka', 'baby', 'bad breaker-upper', 'baldist', 'boys', 'bottle wipe', 'cantstandya!', 'cartwright!', 'close talker', 'coffee table book about coffee tables', 'conjugal visit sex', 'costanza leave behind', 'coup de toe', 'delicate genius', 'double-dipper', 'dry heave set to music', 'even steven', 'festivus', 'fugitive sex', '“get out!”', 'getting upset', 'giddyup!', 'go!', 'gore-tex', 'hand sandwich', 'happy, pappy?', 'hello!', 'hello, newman', 'hello, vargas', 'high talker', 'hipster doofus', 'hoochie mama!', 'the human fund: money for people', 'i am aware', 'i was in the pool!', 'in the vault', \"it's not you, it's me\", 'john-john', 'kavorka', 'kibosh ', 'laughing and lying', 'low talker', 'lupus?! is it lupus?!', 'make-up sex', 'manssiere/bro', 'man hands', 'master of my domain', 'maybe the dingo ate your baby!', 'mimbo', 'moops', 'mulva', 'newman!', 'no soup for you!', \"not that there's anything wrong with that\", 'oh, moses, smell the roses!', 'oh, the humanity!', 'pretty big matzo ball', 'pop-in', \"poppie's a little sloppy\", 'poor little pinkus ', 'queen of the castle', 're-gift/re-gifter', 'ribbon bully', 'schmoopie', 'serenity now!', 'seinfeld, you magnificent bastard!', 'sexual camel', 'shiksappeal', 'shrinkage', 'slip one past the goalie', 'soup nazi', \"so who's having sex with the hen?\", 'spongeworthy', 'stopping short', 'sweet fancy moses!!', \"that'll be ... five ... ten ... minutes\", \"that's a shame\", \"that's gold, jerry! gold!\", 'the belt-less trenchcoat', \"the jerk store called: they're running out of you!\", 'the jimmy leg', 'the move', 'the old switcheroo', 'the tap', 'the twirl', 'toe thumbs', 'these pretzels are making me thirsty!', 'they just ... write it off!', \"they're real, and they're spectacular! \", 'to name name(s)', 'trifecta', 'two-face', 'urban sombrero', 'vargas!', 'vile weed! ', 'walk-and-talk', 'who is this?', 'worlds theory', 'yada yada yada', 'you are so good looking', 'you can stuff your sorries in a sack!', 'you gotta see the baby!', 'you mean the panties your mother laid out for you?', 'you tell that son of a bitch that no yankee is ever coming to houston, not as long as you bastards are running things!', 'yo-yo ma!']\n"
     ]
    }
   ],
   "source": [
    "url = 'http://seinfeld.wikia.com/wiki/List_of_Seinfeld_sayings'\n",
    "\n",
    "source_code = requests.get(url)\n",
    "html = source_code.text\n",
    "#print(html)\n",
    "\n",
    "catch_phrases = re.findall(r'<b>(.*?)</b>', html)\n",
    "\n",
    "clean_phrases = []\n",
    "for phrase in catch_phrases:\n",
    "    phrase = phrase.lower()\n",
    "    clean_phrases.append(re.sub(r'<.*?>|\\\"', '', phrase))\n",
    "print(clean_phrases)"
   ]
  },
  {
   "cell_type": "code",
   "execution_count": 11,
   "metadata": {},
   "outputs": [
    {
     "name": "stdout",
     "output_type": "stream",
     "text": [
      "Yada yada yada\n"
     ]
    }
   ],
   "source": [
    "print(clean_phrases[-7])"
   ]
  },
  {
   "cell_type": "code",
   "execution_count": 12,
   "metadata": {},
   "outputs": [],
   "source": [
    "dialogue = pd.read_csv('C:\\\\Users\\\\Nate\\\\Documents\\\\GitHub\\\\CUNY_DATA_620_GROUP\\\\Final_Project\\\\Data\\\\Seinfield_DialogueSUBSET.csv')"
   ]
  },
  {
   "cell_type": "code",
   "execution_count": 40,
   "metadata": {},
   "outputs": [
    {
     "name": "stdout",
     "output_type": "stream",
     "text": [
      "  Character                                           Dialogue  DialogueIndex  \\\n",
      "0     JERRY  Do you know what this is all about? Do you kno...            1.0   \n",
      "1     JERRY  (pointing at Georges shirt) See, to me, that b...            1.0   \n",
      "2    GEORGE                                   Are you through?            2.0   \n",
      "3     JERRY             You do of course try on, when you buy?            3.0   \n",
      "4    GEORGE  Yes, it was purple, I liked it, I dont actuall...            4.0   \n",
      "\n",
      "     SEID  SceneNum  \n",
      "0  S01E00  S01E00_1  \n",
      "1  S01E00  S01E00_2  \n",
      "2  S01E00  S01E00_2  \n",
      "3  S01E00  S01E00_2  \n",
      "4  S01E00  S01E00_2  \n",
      "0    Do you know what this is all about? Do you kno...\n",
      "1    (pointing at Georges shirt) See, to me, that b...\n",
      "2                                     Are you through?\n",
      "Name: Dialogue, dtype: object\n"
     ]
    }
   ],
   "source": [
    "print(dialogue.head())\n",
    "print(dialogue.loc[:2,'Dialogue'])"
   ]
  },
  {
   "cell_type": "code",
   "execution_count": 41,
   "metadata": {},
   "outputs": [
    {
     "name": "stdout",
     "output_type": "stream",
     "text": [
      "Matches found, 1st and 1st: 0\n",
      "Matches found, anti-dentite: 4\n",
      "Matches found, babka: 20\n",
      "Matches found, baby: 195\n",
      "Matches found, bad breaker-upper: 0\n",
      "Matches found, baldist: 1\n",
      "Matches found, boys: 65\n",
      "Matches found, bottle wipe: 0\n",
      "Matches found, cantstandya!: 0\n",
      "Matches found, cartwright!: 4\n",
      "Matches found, close talker: 1\n",
      "Matches found, coffee table book about coffee tables: 4\n",
      "Matches found, conjugal visit sex: 2\n",
      "Matches found, costanza leave behind: 0\n",
      "Matches found, coup de toe: 0\n",
      "Matches found, delicate genius: 5\n",
      "Matches found, double-dipper: 0\n",
      "Matches found, dry heave set to music: 1\n",
      "Matches found, even steven: 2\n",
      "Matches found, festivus: 28\n",
      "Matches found, fugitive sex: 2\n",
      "Matches found, “get out!”: 0\n",
      "Matches found, getting upset: 4\n",
      "Matches found, giddyup!: 0\n",
      "Matches found, go!: 44\n",
      "Matches found, gore-tex: 6\n",
      "Matches found, hand sandwich: 1\n",
      "Matches found, happy, pappy?: 3\n",
      "Matches found, hello!: 30\n",
      "Matches found, hello, newman: 8\n",
      "Matches found, hello, vargas: 0\n",
      "Matches found, high talker: 4\n",
      "Matches found, hipster doofus: 0\n",
      "Matches found, hoochie mama!: 6\n",
      "Matches found, the human fund: money for people: 0\n",
      "Matches found, i am aware: 4\n",
      "Matches found, i was in the pool!: 2\n",
      "Matches found, in the vault: 7\n",
      "Matches found, it's not you, it's me: 5\n",
      "Matches found, john-john: 3\n",
      "Matches found, kavorka: 6\n",
      "Matches found, kibosh : 8\n",
      "Matches found, laughing and lying: 3\n",
      "Matches found, low talker: 0\n",
      "Matches found, lupus?! is it lupus?!: 0\n",
      "Matches found, make-up sex: 11\n",
      "Matches found, manssiere/bro: 0\n",
      "Matches found, man hands: 0\n",
      "Matches found, master of my domain: 1\n",
      "Matches found, maybe the dingo ate your baby!: 0\n",
      "Matches found, mimbo: 4\n",
      "Matches found, moops: 14\n",
      "Matches found, mulva: 10\n",
      "Matches found, newman!: 23\n",
      "Matches found, no soup for you!: 2\n",
      "Matches found, not that there's anything wrong with that: 5\n",
      "Matches found, oh, moses, smell the roses!: 0\n",
      "Matches found, oh, the humanity!: 0\n",
      "Matches found, pretty big matzo ball: 0\n",
      "Matches found, pop-in: 9\n",
      "Matches found, poppie's a little sloppy: 1\n",
      "Matches found, poor little pinkus : 0\n",
      "Matches found, queen of the castle: 1\n",
      "Matches found, re-gift/re-gifter: 0\n",
      "Matches found, ribbon bully: 1\n",
      "Matches found, schmoopie: 0\n",
      "Matches found, serenity now!: 10\n",
      "Matches found, seinfeld, you magnificent bastard!: 1\n",
      "Matches found, sexual camel: 1\n",
      "Matches found, shiksappeal: 1\n",
      "Matches found, shrinkage: 9\n",
      "Matches found, slip one past the goalie: 0\n",
      "Matches found, soup nazi: 15\n",
      "Matches found, so who's having sex with the hen?: 0\n",
      "Matches found, spongeworthy: 1\n",
      "Matches found, stopping short: 1\n",
      "Matches found, sweet fancy moses!!: 0\n",
      "Matches found, that'll be ... five ... ten ... minutes: 0\n",
      "Matches found, that's a shame: 13\n",
      "Matches found, that's gold, jerry! gold!: 1\n",
      "Matches found, the belt-less trenchcoat: 0\n",
      "Matches found, the jerk store called: they're running out of you!: 0\n",
      "Matches found, the jimmy leg: 1\n",
      "Matches found, the move: 15\n",
      "Matches found, the old switcheroo: 5\n",
      "Matches found, the tap: 39\n",
      "Matches found, the twirl: 3\n",
      "Matches found, toe thumbs: 2\n",
      "Matches found, these pretzels are making me thirsty!: 2\n",
      "Matches found, they just ... write it off!: 0\n",
      "Matches found, they're real, and they're spectacular! : 0\n",
      "Matches found, to name name(s): 1\n",
      "Matches found, trifecta: 1\n",
      "Matches found, two-face: 1\n",
      "Matches found, urban sombrero: 6\n",
      "Matches found, vargas!: 0\n",
      "Matches found, vile weed! : 0\n",
      "Matches found, walk-and-talk: 2\n",
      "Matches found, who is this?: 18\n",
      "Matches found, worlds theory: 1\n",
      "Matches found, yada yada yada: 12\n",
      "Matches found, you are so good looking: 0\n",
      "Matches found, you can stuff your sorries in a sack!: 0\n",
      "Matches found, you gotta see the baby!: 0\n",
      "Matches found, you mean the panties your mother laid out for you?: 1\n",
      "Matches found, you tell that son of a bitch that no yankee is ever coming to houston, not as long as you bastards are running things!: 0\n",
      "Matches found, yo-yo ma!: 2\n"
     ]
    }
   ],
   "source": [
    "for phrase in clean_phrases:\n",
    "    utterances = 0 \n",
    "    for row in dialogue.loc[:,'Dialogue']:\n",
    "        row = str(row).lower() # not all rows are of type string\n",
    "        utterances = utterances + len(re.findall(phrase, row))\n",
    "        #if utterances > 0:\n",
    "    print(\"Matches found, \" + str(phrase) + ': ' + str(utterances))"
   ]
  },
  {
   "cell_type": "code",
   "execution_count": null,
   "metadata": {},
   "outputs": [],
   "source": []
  }
 ],
 "metadata": {
  "kernelspec": {
   "display_name": "Python 3",
   "language": "python",
   "name": "python3"
  },
  "language_info": {
   "codemirror_mode": {
    "name": "ipython",
    "version": 3
   },
   "file_extension": ".py",
   "mimetype": "text/x-python",
   "name": "python",
   "nbconvert_exporter": "python",
   "pygments_lexer": "ipython3",
   "version": "3.6.5"
  }
 },
 "nbformat": 4,
 "nbformat_minor": 2
}
