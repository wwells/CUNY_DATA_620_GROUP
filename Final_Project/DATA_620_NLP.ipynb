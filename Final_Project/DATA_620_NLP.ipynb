{
 "cells": [
  {
   "cell_type": "markdown",
   "metadata": {},
   "source": [
    "## Seinfeild Script Natural Language Processing"
   ]
  },
  {
   "cell_type": "code",
   "execution_count": 1,
   "metadata": {},
   "outputs": [
    {
     "data": {
      "text/plain": [
       "<Figure size 1224x576 with 0 Axes>"
      ]
     },
     "execution_count": 1,
     "metadata": {},
     "output_type": "execute_result"
    },
    {
     "data": {
      "text/plain": [
       "<Figure size 1224x576 with 0 Axes>"
      ]
     },
     "metadata": {},
     "output_type": "display_data"
    }
   ],
   "source": [
    "from bs4 import BeautifulSoup \n",
    "import re\n",
    "import urllib \n",
    "import requests\n",
    "import string\n",
    "import pandas as pd\n",
    "import seaborn as sn\n",
    "% matplotlib inline\n",
    "import matplotlib.pyplot as plt\n",
    "plt.figure(figsize = (17,8))"
   ]
  },
  {
   "cell_type": "markdown",
   "metadata": {},
   "source": [
    "### Catch Phrase Counting"
   ]
  },
  {
   "cell_type": "code",
   "execution_count": 2,
   "metadata": {},
   "outputs": [
    {
     "name": "stdout",
     "output_type": "stream",
     "text": [
      "['1st and 1st', 'anti-dentite', 'babka', 'baby', 'bad breaker-upper', 'baldist', 'boys', 'bottle wipe', 'cantstandya!', 'cartwright!', 'close talker', 'coffee table book about coffee tables', 'conjugal visit sex', 'costanza leave behind', 'coup de toe', 'delicate genius', 'double-dipper', 'dry heave set to music', 'even steven', 'festivus', 'fugitive sex', '“get out!”', 'getting upset', 'giddyup!', 'go!', 'gore-tex', 'hand sandwich', 'happy, pappy?', 'hello!', 'hello, newman', 'hello, vargas', 'high talker', 'hipster doofus', 'hoochie mama!', 'the human fund: money for people', 'i am aware', 'i was in the pool!', 'in the vault', \"it's not you, it's me\", 'john-john', 'kavorka', 'kibosh ', 'laughing and lying', 'low talker', 'lupus?! is it lupus?!', 'make-up sex', 'manssiere/bro', 'man hands', 'master of my domain', 'maybe the dingo ate your baby!', 'mimbo', 'moops', 'mulva', 'newman!', 'no soup for you!', \"not that there's anything wrong with that\", 'oh, moses, smell the roses!', 'oh, the humanity!', 'pretty big matzo ball', 'pop-in', \"poppie's a little sloppy\", 'poor little pinkus ', 'queen of the castle', 're-gift/re-gifter', 'ribbon bully', 'schmoopie', 'serenity now!', 'seinfeld, you magnificent bastard!', 'sexual camel', 'shiksappeal', 'shrinkage', 'slip one past the goalie', 'soup nazi', \"so who's having sex with the hen?\", 'spongeworthy', 'stopping short', 'sweet fancy moses!!', \"that'll be ... five ... ten ... minutes\", \"that's a shame\", \"that's gold, jerry! gold!\", 'the belt-less trenchcoat', \"the jerk store called: they're running out of you!\", 'the jimmy leg', 'the move', 'the old switcheroo', 'the tap', 'the twirl', 'toe thumbs', 'these pretzels are making me thirsty!', 'they just ... write it off!', \"they're real, and they're spectacular! \", 'to name name(s)', 'trifecta', 'two-face', 'urban sombrero', 'vargas!', 'vile weed! ', 'walk-and-talk', 'who is this?', 'worlds theory', 'yada yada yada', 'you are so good looking', 'you can stuff your sorries in a sack!', 'you gotta see the baby!', 'you mean the panties your mother laid out for you?', 'you tell that son of a bitch that no yankee is ever coming to houston, not as long as you bastards are running things!', 'yo-yo ma!']\n"
     ]
    }
   ],
   "source": [
    "url = 'http://seinfeld.wikia.com/wiki/List_of_Seinfeld_sayings'\n",
    "\n",
    "source_code = requests.get(url)\n",
    "html = source_code.text\n",
    "#print(html)\n",
    "\n",
    "catch_phrases = re.findall(r'<b>(.*?)</b>', html)\n",
    "\n",
    "clean_phrases = []\n",
    "for phrase in catch_phrases:\n",
    "    phrase = phrase.lower()\n",
    "    clean_phrases.append(re.sub(r'<.*?>|\\\"', '', phrase))\n",
    "print(clean_phrases)"
   ]
  },
  {
   "cell_type": "code",
   "execution_count": 3,
   "metadata": {},
   "outputs": [
    {
     "name": "stdout",
     "output_type": "stream",
     "text": [
      "yada yada yada\n"
     ]
    }
   ],
   "source": [
    "print(clean_phrases[-7])"
   ]
  },
  {
   "cell_type": "code",
   "execution_count": 4,
   "metadata": {},
   "outputs": [],
   "source": [
    "dialogue = pd.read_csv('C:\\\\Users\\\\Nate\\\\Documents\\\\GitHub\\\\CUNY_DATA_620_GROUP\\\\Final_Project\\\\Data\\\\Seinfield_DialogueSUBSET.csv')"
   ]
  },
  {
   "cell_type": "code",
   "execution_count": 5,
   "metadata": {},
   "outputs": [
    {
     "name": "stdout",
     "output_type": "stream",
     "text": [
      "  Character                                           Dialogue  DialogueIndex  \\\n",
      "0     JERRY  Do you know what this is all about? Do you kno...              1   \n",
      "1     JERRY  (pointing at Georges shirt) See, to me, that b...              1   \n",
      "2    GEORGE                                   Are you through?              2   \n",
      "3     JERRY             You do of course try on, when you buy?              3   \n",
      "4    GEORGE  Yes, it was purple, I liked it, I dont actuall...              4   \n",
      "\n",
      "     SEID  SceneNum  \n",
      "0  S01E00  S01E00_1  \n",
      "1  S01E00  S01E00_2  \n",
      "2  S01E00  S01E00_2  \n",
      "3  S01E00  S01E00_2  \n",
      "4  S01E00  S01E00_2  \n",
      "0    Do you know what this is all about? Do you kno...\n",
      "1    (pointing at Georges shirt) See, to me, that b...\n",
      "2                                     Are you through?\n",
      "Name: Dialogue, dtype: object\n"
     ]
    }
   ],
   "source": [
    "print(dialogue.head())\n",
    "print(dialogue.loc[:2,'Dialogue'])"
   ]
  },
  {
   "cell_type": "code",
   "execution_count": 6,
   "metadata": {},
   "outputs": [
    {
     "name": "stdout",
     "output_type": "stream",
     "text": [
      "                Count\n",
      "baby              195\n",
      "boys               65\n",
      "go!                44\n",
      "the tap            39\n",
      "hello!             30\n",
      "festivus           28\n",
      "newman!            23\n",
      "babka              20\n",
      "who is this?       18\n",
      "the move           15\n",
      "soup nazi          15\n",
      "moops              14\n",
      "that's a shame     13\n",
      "yada yada yada     12\n",
      "make-up sex        11\n",
      "serenity now!      10\n",
      "mulva              10\n",
      "shrinkage           9\n",
      "pop-in              9\n",
      "hello, newman       8\n"
     ]
    }
   ],
   "source": [
    "catch_dict = {}\n",
    "for phrase in clean_phrases:\n",
    "    utterances = 0 \n",
    "    for row in dialogue.loc[:,'Dialogue']:\n",
    "        row = str(row).lower() # not all rows are of type string\n",
    "        utterances = utterances + len(re.findall(phrase, row))\n",
    "        #if utterances > 0:\n",
    "    #print(\"Matches found, \" + str(phrase) + ': ' + str(utterances))\n",
    "    catch_dict[phrase] = utterances\n",
    "#print(catch_dict)\n",
    "catch_df = pd.DataFrame.from_dict(catch_dict, orient='index')\n",
    "catch_df.rename(columns={0: 'Count'}, inplace=True)\n",
    "catch_df = catch_df.sort_values(by='Count',ascending=False)\n",
    "print(catch_df.head(20))"
   ]
  },
  {
   "cell_type": "code",
   "execution_count": 7,
   "metadata": {},
   "outputs": [
    {
     "data": {
      "image/png": "[encoded data removed]",
      "text/plain": [
       "<Figure size 432x288 with 1 Axes>"
      ]
     },
     "metadata": {},
     "output_type": "display_data"
    }
   ],
   "source": [
    "top20_catchs = catch_df.iloc[:20,:]\n",
    "sn.barplot(x=top20_catchs.Count, y=top20_catchs.index)\n",
    "plt.show()"
   ]
  },
  {
   "cell_type": "code",
   "execution_count": 8,
   "metadata": {},
   "outputs": [
    {
     "name": "stdout",
     "output_type": "stream",
     "text": [
      "Matches found, first and first: 1\n",
      "Matches found, re-gift|re-gifter: 5\n",
      "Matches found, schmoopie: 0\n",
      "Matches found, past the goalie: 1\n",
      "Matches found, pinkus: 8\n",
      "Matches found, sweet fancy moses: 2\n",
      "Matches found, the human fund: 5\n",
      "Matches found, money for people: 1\n",
      "Matches found, the jerk store called: 3\n",
      "Matches found, sex with the hen: 1\n",
      "Matches found, lupus: 4\n",
      "Matches found, vile: 5\n",
      "Matches found, vile weed: 1\n",
      "Matches found, dipper: 0\n"
     ]
    }
   ],
   "source": [
    "utterances = 0 \n",
    "for row in dialogue.loc[:,'Dialogue']:\n",
    "    row = str(row).lower() # not all rows are of type string\n",
    "    utterances = utterances + len(re.findall(r'first and first', row))\n",
    "        #if utterances > 0:\n",
    "print(\"Matches found, \" + 'first and first' + ': ' + str(utterances))\n",
    "\n",
    "utterances = 0 \n",
    "for row in dialogue.loc[:,'Dialogue']:\n",
    "    row = str(row).lower() # not all rows are of type string\n",
    "    utterances = utterances + len(re.findall(r'regift', row))\n",
    "        #if utterances > 0:\n",
    "print(\"Matches found, \" + 're-gift|re-gifter' + ': ' + str(utterances))\n",
    "\n",
    "utterances = 0 \n",
    "for row in dialogue.loc[:,'Dialogue']:\n",
    "    row = str(row).lower() # not all rows are of type string\n",
    "    utterances = utterances + len(re.findall(r'schmoopie', row))\n",
    "        #if utterances > 0:\n",
    "print(\"Matches found, \" + 'schmoopie' + ': ' + str(utterances))\n",
    "\n",
    "utterances = 0 \n",
    "for row in dialogue.loc[:,'Dialogue']:\n",
    "    row = str(row).lower() # not all rows are of type string\n",
    "    utterances = utterances + len(re.findall(r'past the goalie', row))\n",
    "        #if utterances > 0:\n",
    "print(\"Matches found, \" + 'past the goalie' + ': ' + str(utterances))\n",
    "\n",
    "utterances = 0 \n",
    "for row in dialogue.loc[:,'Dialogue']:\n",
    "    row = str(row).lower() # not all rows are of type string\n",
    "    utterances = utterances + len(re.findall(r'pinkus', row))\n",
    "        #if utterances > 0:\n",
    "print(\"Matches found, \" + 'pinkus' + ': ' + str(utterances))\n",
    "\n",
    "utterances = 0 \n",
    "for row in dialogue.loc[:,'Dialogue']:\n",
    "    row = str(row).lower() # not all rows are of type string\n",
    "    utterances = utterances + len(re.findall(r'sweet fancy moses', row))\n",
    "        #if utterances > 0:\n",
    "print(\"Matches found, \" + 'sweet fancy moses' + ': ' + str(utterances))\n",
    "\n",
    "\n",
    "utterances = 0 \n",
    "for row in dialogue.loc[:,'Dialogue']:\n",
    "    row = str(row).lower() # not all rows are of type string\n",
    "    utterances = utterances + len(re.findall(r'the human fund', row))\n",
    "        #if utterances > 0:\n",
    "print(\"Matches found, \" + 'the human fund' + ': ' + str(utterances))\n",
    "\n",
    "utterances = 0 \n",
    "for row in dialogue.loc[:,'Dialogue']:\n",
    "    row = str(row).lower() # not all rows are of type string\n",
    "    utterances = utterances + len(re.findall(r'money for people', row))\n",
    "        #if utterances > 0:\n",
    "print(\"Matches found, \" + 'money for people' + ': ' + str(utterances))\n",
    "\n",
    "utterances = 0 \n",
    "for row in dialogue.loc[:,'Dialogue']:\n",
    "    row = str(row).lower() # not all rows are of type string\n",
    "    utterances = utterances + len(re.findall(r'the jerk store called', row))\n",
    "        #if utterances > 0:\n",
    "print(\"Matches found, \" + 'the jerk store called' + ': ' + str(utterances))\n",
    "\n",
    "utterances = 0 \n",
    "for row in dialogue.loc[:,'Dialogue']:\n",
    "    row = str(row).lower() # not all rows are of type string\n",
    "    utterances = utterances + len(re.findall(r'sex with the hen', row))\n",
    "        #if utterances > 0:\n",
    "print(\"Matches found, \" + 'sex with the hen' + ': ' + str(utterances))\n",
    "\n",
    "utterances = 0 \n",
    "for row in dialogue.loc[:,'Dialogue']:\n",
    "    row = str(row).lower() # not all rows are of type string\n",
    "    utterances = utterances + len(re.findall(r'lupus', row))\n",
    "        #if utterances > 0:\n",
    "print(\"Matches found, \" + 'lupus' + ': ' + str(utterances))\n",
    "\n",
    "utterances = 0 \n",
    "for row in dialogue.loc[:,'Dialogue']:\n",
    "    row = str(row).lower() # not all rows are of type string\n",
    "    utterances = utterances + len(re.findall(r'vile', row))\n",
    "        #if utterances > 0:\n",
    "print(\"Matches found, \" + 'vile' + ': ' + str(utterances))\n",
    "\n",
    "\n",
    "utterances = 0 \n",
    "for row in dialogue.loc[:,'Dialogue']:\n",
    "    row = str(row).lower() # not all rows are of type string\n",
    "    utterances = utterances + len(re.findall(r'vile weed', row))\n",
    "        #if utterances > 0:\n",
    "print(\"Matches found, \" + 'vile weed' + ': ' + str(utterances))\n",
    "\n",
    "\n",
    "\n",
    "utterances = 0 \n",
    "for row in dialogue.loc[:,'Dialogue']:\n",
    "    row = str(row).lower() # not all rows are of type string\n",
    "    utterances = utterances + len(re.findall(r'dipper', row))\n",
    "        #if utterances > 0:\n",
    "print(\"Matches found, \" + 'dipper' + ': ' + str(utterances))\n"
   ]
  },
  {
   "cell_type": "code",
   "execution_count": 9,
   "metadata": {},
   "outputs": [
    {
     "name": "stdout",
     "output_type": "stream",
     "text": [
      "['1st and 1st', 'anti-dentite', 'babka', 'baby', 'bad breaker-upper', 'baldist', 'boys', 'bottle wipe', 'cantstandya', 'cartwright', 'close talker', 'coffee table book about coffee tables', 'conjugal visit sex', 'costanza leave behind', 'coup de toe', 'delicate genius', 'double-dipper', 'dry heave set to music', 'even steven', 'festivus', 'fugitive sex', '“get out”', 'getting upset', 'giddyup', 'go', 'gore-tex', 'hand sandwich', 'happy, pappy?', 'hello', 'hello, newman', 'hello, vargas', 'high talker', 'hipster doofus', 'hoochie mama', 'the human fund: money for people', 'i am aware', 'i was in the pool', 'in the vault', \"it's not you, it's me\", 'john-john', 'kavorka', 'kibosh ', 'laughing and lying', 'low talker', 'lupus? is it lupus?', 'make-up sex', 'manssiere/bro', 'man hands', 'master of my domain', 'maybe the dingo ate your baby', 'mimbo', 'moops', 'mulva', 'newman', 'no soup for you', \"not that there's anything wrong with that\", 'oh, moses, smell the roses', 'oh, the humanity', 'pretty big matzo ball', 'pop-in', \"poppie's a little sloppy\", 'poor little pinkus ', 'queen of the castle', 're-gift/re-gifter', 'ribbon bully', 'schmoopie', 'serenity now', 'seinfeld, you magnificent bastard', 'sexual camel', 'shiksappeal', 'shrinkage', 'slip one past the goalie', 'soup nazi', \"so who's having sex with the hen?\", 'spongeworthy', 'stopping short', 'sweet fancy moses', \"that'll be ... five ... ten ... minutes\", \"that's a shame\", \"that's gold, jerry gold\", 'the belt-less trenchcoat', \"the jerk store called: they're running out of you\", 'the jimmy leg', 'the move', 'the old switcheroo', 'the tap', 'the twirl', 'toe thumbs', 'these pretzels are making me thirsty', 'they just ... write it off', \"they're real, and they're spectacular \", 'to name name(s)', 'trifecta', 'two-face', 'urban sombrero', 'vargas', 'vile weed ', 'walk-and-talk', 'who is this?', 'worlds theory', 'yada yada yada', 'you are so good looking', 'you can stuff your sorries in a sack', 'you gotta see the baby', 'you mean the panties your mother laid out for you?', 'you tell that son of a bitch that no yankee is ever coming to houston, not as long as you bastards are running things', 'yo-yo ma']\n"
     ]
    }
   ],
   "source": [
    "#with out exclaimation marks\n",
    "no_excl_phrases = []\n",
    "for phrase in clean_phrases:\n",
    "    phrase = phrase.lower()\n",
    "    no_excl_phrases.append(re.sub(r'!+', '', phrase))\n",
    "print(no_excl_phrases)"
   ]
  },
  {
   "cell_type": "code",
   "execution_count": 10,
   "metadata": {},
   "outputs": [
    {
     "name": "stdout",
     "output_type": "stream",
     "text": [
      "Matches found, 1st and 1st: 0\n",
      "Matches found, anti-dentite: 4\n",
      "Matches found, babka: 20\n",
      "Matches found, baby: 195\n",
      "Matches found, bad breaker-upper: 0\n",
      "Matches found, baldist: 1\n",
      "Matches found, boys: 65\n",
      "Matches found, bottle wipe: 0\n",
      "Matches found, cantstandya: 0\n",
      "Matches found, cartwright: 8\n",
      "Matches found, close talker: 1\n",
      "Matches found, coffee table book about coffee tables: 4\n",
      "Matches found, conjugal visit sex: 2\n",
      "Matches found, costanza leave behind: 0\n",
      "Matches found, coup de toe: 0\n",
      "Matches found, delicate genius: 5\n",
      "Matches found, double-dipper: 0\n",
      "Matches found, dry heave set to music: 1\n",
      "Matches found, even steven: 2\n",
      "Matches found, festivus: 28\n",
      "Matches found, fugitive sex: 2\n",
      "Matches found, “get out”: 0\n",
      "Matches found, getting upset: 4\n",
      "Matches found, giddyup: 7\n",
      "Matches found, go: 10475\n",
      "Matches found, gore-tex: 6\n",
      "Matches found, hand sandwich: 1\n",
      "Matches found, happy, pappy?: 3\n",
      "Matches found, hello: 651\n",
      "Matches found, hello, newman: 8\n",
      "Matches found, hello, vargas: 0\n",
      "Matches found, high talker: 4\n",
      "Matches found, hipster doofus: 0\n",
      "Matches found, hoochie mama: 8\n",
      "Matches found, the human fund: money for people: 0\n",
      "Matches found, i am aware: 4\n",
      "Matches found, i was in the pool: 2\n",
      "Matches found, in the vault: 7\n",
      "Matches found, it's not you, it's me: 5\n",
      "Matches found, john-john: 3\n",
      "Matches found, kavorka: 6\n",
      "Matches found, kibosh : 8\n",
      "Matches found, laughing and lying: 3\n",
      "Matches found, low talker: 0\n",
      "Matches found, lupus? is it lupus?: 0\n",
      "Matches found, make-up sex: 11\n",
      "Matches found, manssiere/bro: 0\n",
      "Matches found, man hands: 0\n",
      "Matches found, master of my domain: 1\n",
      "Matches found, maybe the dingo ate your baby: 1\n",
      "Matches found, mimbo: 4\n",
      "Matches found, moops: 14\n",
      "Matches found, mulva: 10\n",
      "Matches found, newman: 260\n",
      "Matches found, no soup for you: 2\n",
      "Matches found, not that there's anything wrong with that: 5\n",
      "Matches found, oh, moses, smell the roses: 0\n",
      "Matches found, oh, the humanity: 0\n",
      "Matches found, pretty big matzo ball: 0\n",
      "Matches found, pop-in: 9\n",
      "Matches found, poppie's a little sloppy: 1\n",
      "Matches found, poor little pinkus : 0\n",
      "Matches found, queen of the castle: 1\n",
      "Matches found, re-gift/re-gifter: 0\n",
      "Matches found, ribbon bully: 1\n",
      "Matches found, schmoopie: 0\n",
      "Matches found, serenity now: 26\n",
      "Matches found, seinfeld, you magnificent bastard: 1\n",
      "Matches found, sexual camel: 1\n",
      "Matches found, shiksappeal: 1\n",
      "Matches found, shrinkage: 9\n",
      "Matches found, slip one past the goalie: 0\n",
      "Matches found, soup nazi: 15\n",
      "Matches found, so who's having sex with the hen?: 0\n",
      "Matches found, spongeworthy: 1\n",
      "Matches found, stopping short: 1\n",
      "Matches found, sweet fancy moses: 2\n",
      "Matches found, that'll be ... five ... ten ... minutes: 0\n",
      "Matches found, that's a shame: 13\n",
      "Matches found, that's gold, jerry gold: 0\n",
      "Matches found, the belt-less trenchcoat: 0\n",
      "Matches found, the jerk store called: they're running out of you: 0\n",
      "Matches found, the jimmy leg: 1\n",
      "Matches found, the move: 15\n",
      "Matches found, the old switcheroo: 5\n",
      "Matches found, the tap: 39\n",
      "Matches found, the twirl: 3\n",
      "Matches found, toe thumbs: 2\n",
      "Matches found, these pretzels are making me thirsty: 11\n",
      "Matches found, they just ... write it off: 0\n",
      "Matches found, they're real, and they're spectacular : 0\n",
      "Matches found, to name name(s): 1\n",
      "Matches found, trifecta: 1\n",
      "Matches found, two-face: 1\n",
      "Matches found, urban sombrero: 6\n",
      "Matches found, vargas: 0\n",
      "Matches found, vile weed : 0\n",
      "Matches found, walk-and-talk: 2\n",
      "Matches found, who is this?: 18\n",
      "Matches found, worlds theory: 1\n",
      "Matches found, yada yada yada: 12\n",
      "Matches found, you are so good looking: 0\n",
      "Matches found, you can stuff your sorries in a sack: 2\n",
      "Matches found, you gotta see the baby: 0\n",
      "Matches found, you mean the panties your mother laid out for you?: 1\n",
      "Matches found, you tell that son of a bitch that no yankee is ever coming to houston, not as long as you bastards are running things: 0\n",
      "Matches found, yo-yo ma: 5\n"
     ]
    }
   ],
   "source": [
    "for phrase in no_excl_phrases:\n",
    "    utterances = 0 \n",
    "    for row in dialogue.loc[:,'Dialogue']:\n",
    "        row = str(row).lower() # not all rows are of type string\n",
    "        utterances = utterances + len(re.findall(phrase, row))\n",
    "        #if utterances > 0:\n",
    "    print(\"Matches found, \" + str(phrase) + ': ' + str(utterances))"
   ]
  },
  {
   "cell_type": "markdown",
   "metadata": {},
   "source": [
    "### Writer Classification"
   ]
  },
  {
   "cell_type": "code",
   "execution_count": 11,
   "metadata": {},
   "outputs": [
    {
     "data": {
      "text/html": [
       "<div>\n",
       "<style scoped>\n",
       "    .dataframe tbody tr th:only-of-type {\n",
       "        vertical-align: middle;\n",
       "    }\n",
       "\n",
       "    .dataframe tbody tr th {\n",
       "        vertical-align: top;\n",
       "    }\n",
       "\n",
       "    .dataframe thead th {\n",
       "        text-align: right;\n",
       "    }\n",
       "</style>\n",
       "<table border=\"1\" class=\"dataframe\">\n",
       "  <thead>\n",
       "    <tr style=\"text-align: right;\">\n",
       "      <th></th>\n",
       "      <th>Writers</th>\n",
       "      <th>SEID</th>\n",
       "    </tr>\n",
       "  </thead>\n",
       "  <tbody>\n",
       "    <tr>\n",
       "      <th>0</th>\n",
       "      <td>Larry David</td>\n",
       "      <td>S01E00</td>\n",
       "    </tr>\n",
       "    <tr>\n",
       "      <th>1</th>\n",
       "      <td>Jerry Seinfeld</td>\n",
       "      <td>S01E00</td>\n",
       "    </tr>\n",
       "    <tr>\n",
       "      <th>2</th>\n",
       "      <td>Larry David</td>\n",
       "      <td>S01E01</td>\n",
       "    </tr>\n",
       "    <tr>\n",
       "      <th>3</th>\n",
       "      <td>Jerry Seinfeld</td>\n",
       "      <td>S01E01</td>\n",
       "    </tr>\n",
       "    <tr>\n",
       "      <th>4</th>\n",
       "      <td>Matt Goldman</td>\n",
       "      <td>S01E02</td>\n",
       "    </tr>\n",
       "    <tr>\n",
       "      <th>5</th>\n",
       "      <td>Larry David</td>\n",
       "      <td>S01E03</td>\n",
       "    </tr>\n",
       "    <tr>\n",
       "      <th>6</th>\n",
       "      <td>Jerry Seinfeld</td>\n",
       "      <td>S01E03</td>\n",
       "    </tr>\n",
       "    <tr>\n",
       "      <th>7</th>\n",
       "      <td>Larry David</td>\n",
       "      <td>S01E04</td>\n",
       "    </tr>\n",
       "    <tr>\n",
       "      <th>8</th>\n",
       "      <td>Jerry Seinfeld</td>\n",
       "      <td>S01E04</td>\n",
       "    </tr>\n",
       "    <tr>\n",
       "      <th>9</th>\n",
       "      <td>Larry David</td>\n",
       "      <td>S02E01</td>\n",
       "    </tr>\n",
       "  </tbody>\n",
       "</table>\n",
       "</div>"
      ],
      "text/plain": [
       "          Writers    SEID\n",
       "0     Larry David  S01E00\n",
       "1  Jerry Seinfeld  S01E00\n",
       "2     Larry David  S01E01\n",
       "3  Jerry Seinfeld  S01E01\n",
       "4    Matt Goldman  S01E02\n",
       "5     Larry David  S01E03\n",
       "6  Jerry Seinfeld  S01E03\n",
       "7     Larry David  S01E04\n",
       "8  Jerry Seinfeld  S01E04\n",
       "9     Larry David  S02E01"
      ]
     },
     "execution_count": 11,
     "metadata": {},
     "output_type": "execute_result"
    }
   ],
   "source": [
    "writers = pd.read_csv('C:\\\\Users\\\\Nate\\\\Documents\\\\GitHub\\\\CUNY_DATA_620_GROUP\\\\Final_Project\\\\Data\\\\Seinfield_Writers.csv')\n",
    "writers.head(10)"
   ]
  },
  {
   "cell_type": "code",
   "execution_count": 12,
   "metadata": {},
   "outputs": [
    {
     "data": {
      "text/html": [
       "<div>\n",
       "<style scoped>\n",
       "    .dataframe tbody tr th:only-of-type {\n",
       "        vertical-align: middle;\n",
       "    }\n",
       "\n",
       "    .dataframe tbody tr th {\n",
       "        vertical-align: top;\n",
       "    }\n",
       "\n",
       "    .dataframe thead th {\n",
       "        text-align: right;\n",
       "    }\n",
       "</style>\n",
       "<table border=\"1\" class=\"dataframe\">\n",
       "  <thead>\n",
       "    <tr style=\"text-align: right;\">\n",
       "      <th></th>\n",
       "      <th>Writers</th>\n",
       "      <th>SEID</th>\n",
       "      <th>Character</th>\n",
       "      <th>Dialogue</th>\n",
       "      <th>DialogueIndex</th>\n",
       "      <th>SceneNum</th>\n",
       "    </tr>\n",
       "  </thead>\n",
       "  <tbody>\n",
       "    <tr>\n",
       "      <th>84337</th>\n",
       "      <td>Larry David</td>\n",
       "      <td>S09E23</td>\n",
       "      <td>JERRY</td>\n",
       "      <td>Grand theft auto - don't steal any of my jokes.</td>\n",
       "      <td>7</td>\n",
       "      <td>S09E23_65</td>\n",
       "    </tr>\n",
       "    <tr>\n",
       "      <th>84338</th>\n",
       "      <td>Larry David</td>\n",
       "      <td>S09E23</td>\n",
       "      <td>PRISONER 3</td>\n",
       "      <td>You suck - I'm gonna cut you.</td>\n",
       "      <td>8</td>\n",
       "      <td>S09E23_65</td>\n",
       "    </tr>\n",
       "    <tr>\n",
       "      <th>84339</th>\n",
       "      <td>Larry David</td>\n",
       "      <td>S09E23</td>\n",
       "      <td>JERRY</td>\n",
       "      <td>Hey, I don't come down to where you work, and ...</td>\n",
       "      <td>9</td>\n",
       "      <td>S09E23_65</td>\n",
       "    </tr>\n",
       "    <tr>\n",
       "      <th>84340</th>\n",
       "      <td>Larry David</td>\n",
       "      <td>S09E23</td>\n",
       "      <td>GUARD</td>\n",
       "      <td>Alright, Seinfeld, that's it. Let's go. Come on.</td>\n",
       "      <td>10</td>\n",
       "      <td>S09E23_65</td>\n",
       "    </tr>\n",
       "    <tr>\n",
       "      <th>84341</th>\n",
       "      <td>Larry David</td>\n",
       "      <td>S09E23</td>\n",
       "      <td>JERRY</td>\n",
       "      <td>Alright, hey, you've been great! See you in th...</td>\n",
       "      <td>11</td>\n",
       "      <td>S09E23_65</td>\n",
       "    </tr>\n",
       "  </tbody>\n",
       "</table>\n",
       "</div>"
      ],
      "text/plain": [
       "           Writers    SEID   Character  \\\n",
       "84337  Larry David  S09E23       JERRY   \n",
       "84338  Larry David  S09E23  PRISONER 3   \n",
       "84339  Larry David  S09E23       JERRY   \n",
       "84340  Larry David  S09E23       GUARD   \n",
       "84341  Larry David  S09E23       JERRY   \n",
       "\n",
       "                                                Dialogue  DialogueIndex  \\\n",
       "84337    Grand theft auto - don't steal any of my jokes.              7   \n",
       "84338                      You suck - I'm gonna cut you.              8   \n",
       "84339  Hey, I don't come down to where you work, and ...              9   \n",
       "84340   Alright, Seinfeld, that's it. Let's go. Come on.             10   \n",
       "84341  Alright, hey, you've been great! See you in th...             11   \n",
       "\n",
       "        SceneNum  \n",
       "84337  S09E23_65  \n",
       "84338  S09E23_65  \n",
       "84339  S09E23_65  \n",
       "84340  S09E23_65  \n",
       "84341  S09E23_65  "
      ]
     },
     "execution_count": 12,
     "metadata": {},
     "output_type": "execute_result"
    }
   ],
   "source": [
    "writer_dialogue = pd.merge(writers, dialogue, how='right',on=['SEID', 'SEID'])\n",
    "writer_dialogue.tail(5)"
   ]
  },
  {
   "cell_type": "code",
   "execution_count": 13,
   "metadata": {},
   "outputs": [
    {
     "data": {
      "text/html": [
       "<div>\n",
       "<style scoped>\n",
       "    .dataframe tbody tr th:only-of-type {\n",
       "        vertical-align: middle;\n",
       "    }\n",
       "\n",
       "    .dataframe tbody tr th {\n",
       "        vertical-align: top;\n",
       "    }\n",
       "\n",
       "    .dataframe thead th {\n",
       "        text-align: right;\n",
       "    }\n",
       "</style>\n",
       "<table border=\"1\" class=\"dataframe\">\n",
       "  <thead>\n",
       "    <tr style=\"text-align: right;\">\n",
       "      <th></th>\n",
       "      <th>Writers</th>\n",
       "      <th>SEID</th>\n",
       "      <th>Character</th>\n",
       "      <th>Dialogue</th>\n",
       "      <th>DialogueIndex</th>\n",
       "      <th>SceneNum</th>\n",
       "    </tr>\n",
       "  </thead>\n",
       "  <tbody>\n",
       "    <tr>\n",
       "      <th>0</th>\n",
       "      <td>Larry David</td>\n",
       "      <td>S01E00</td>\n",
       "      <td>JERRY</td>\n",
       "      <td>Do you know what this is all about? Do you kno...</td>\n",
       "      <td>1</td>\n",
       "      <td>S01E00_1</td>\n",
       "    </tr>\n",
       "    <tr>\n",
       "      <th>1</th>\n",
       "      <td>Jerry Seinfeld</td>\n",
       "      <td>S01E00</td>\n",
       "      <td>JERRY</td>\n",
       "      <td>Do you know what this is all about? Do you kno...</td>\n",
       "      <td>1</td>\n",
       "      <td>S01E00_1</td>\n",
       "    </tr>\n",
       "    <tr>\n",
       "      <th>2</th>\n",
       "      <td>Larry David</td>\n",
       "      <td>S01E00</td>\n",
       "      <td>JERRY</td>\n",
       "      <td>(pointing at Georges shirt) See, to me, that b...</td>\n",
       "      <td>1</td>\n",
       "      <td>S01E00_2</td>\n",
       "    </tr>\n",
       "    <tr>\n",
       "      <th>3</th>\n",
       "      <td>Jerry Seinfeld</td>\n",
       "      <td>S01E00</td>\n",
       "      <td>JERRY</td>\n",
       "      <td>(pointing at Georges shirt) See, to me, that b...</td>\n",
       "      <td>1</td>\n",
       "      <td>S01E00_2</td>\n",
       "    </tr>\n",
       "    <tr>\n",
       "      <th>4</th>\n",
       "      <td>Larry David</td>\n",
       "      <td>S01E00</td>\n",
       "      <td>GEORGE</td>\n",
       "      <td>Are you through?</td>\n",
       "      <td>2</td>\n",
       "      <td>S01E00_2</td>\n",
       "    </tr>\n",
       "    <tr>\n",
       "      <th>5</th>\n",
       "      <td>Jerry Seinfeld</td>\n",
       "      <td>S01E00</td>\n",
       "      <td>GEORGE</td>\n",
       "      <td>Are you through?</td>\n",
       "      <td>2</td>\n",
       "      <td>S01E00_2</td>\n",
       "    </tr>\n",
       "  </tbody>\n",
       "</table>\n",
       "</div>"
      ],
      "text/plain": [
       "          Writers    SEID Character  \\\n",
       "0     Larry David  S01E00     JERRY   \n",
       "1  Jerry Seinfeld  S01E00     JERRY   \n",
       "2     Larry David  S01E00     JERRY   \n",
       "3  Jerry Seinfeld  S01E00     JERRY   \n",
       "4     Larry David  S01E00    GEORGE   \n",
       "5  Jerry Seinfeld  S01E00    GEORGE   \n",
       "\n",
       "                                            Dialogue  DialogueIndex  SceneNum  \n",
       "0  Do you know what this is all about? Do you kno...              1  S01E00_1  \n",
       "1  Do you know what this is all about? Do you kno...              1  S01E00_1  \n",
       "2  (pointing at Georges shirt) See, to me, that b...              1  S01E00_2  \n",
       "3  (pointing at Georges shirt) See, to me, that b...              1  S01E00_2  \n",
       "4                                   Are you through?              2  S01E00_2  \n",
       "5                                   Are you through?              2  S01E00_2  "
      ]
     },
     "execution_count": 13,
     "metadata": {},
     "output_type": "execute_result"
    }
   ],
   "source": [
    "writer_dialogue.head(6)"
   ]
  },
  {
   "cell_type": "code",
   "execution_count": 14,
   "metadata": {},
   "outputs": [
    {
     "data": {
      "image/png": "[encoded data removed]",
      "text/plain": [
       "<Figure size 432x288 with 1 Axes>"
      ]
     },
     "metadata": {},
     "output_type": "display_data"
    }
   ],
   "source": [
    "# adapted from https://towardsdatascience.com/multi-class-text-classification-with-scikit-learn-12f1e60e0a9f\n",
    "\n",
    "writer_dialogue.groupby('Writers').SEID.count().plot.bar(ylim=0)\n",
    "plt.show()"
   ]
  },
  {
   "cell_type": "markdown",
   "metadata": {},
   "source": [
    "We can see that Larry David contributed to many more lines of dialogue than any other writer in the series."
   ]
  },
  {
   "cell_type": "code",
   "execution_count": 15,
   "metadata": {},
   "outputs": [
    {
     "name": "stdout",
     "output_type": "stream",
     "text": [
      "          Writers    SEID Character  \\\n",
      "0     Larry David  S01E00     JERRY   \n",
      "1  Jerry Seinfeld  S01E00     JERRY   \n",
      "2     Larry David  S01E00     JERRY   \n",
      "3  Jerry Seinfeld  S01E00     JERRY   \n",
      "4     Larry David  S01E00    GEORGE   \n",
      "\n",
      "                                            Dialogue  DialogueIndex  SceneNum  \\\n",
      "0  Do you know what this is all about? Do you kno...              1  S01E00_1   \n",
      "1  Do you know what this is all about? Do you kno...              1  S01E00_1   \n",
      "2  (pointing at Georges shirt) See, to me, that b...              1  S01E00_2   \n",
      "3  (pointing at Georges shirt) See, to me, that b...              1  S01E00_2   \n",
      "4                                   Are you through?              2  S01E00_2   \n",
      "\n",
      "   LD_episode  \n",
      "0        True  \n",
      "1        True  \n",
      "2        True  \n",
      "3        True  \n",
      "4        True  \n"
     ]
    }
   ],
   "source": [
    "larry_david_episode = writer_dialogue.loc[writer_dialogue['Writers'] == 'Larry David']\n",
    "larry_david_episode\n",
    "writer_dialogue['LD_episode'] = writer_dialogue.SEID.isin(larry_david_episode.SEID)\n",
    "print(writer_dialogue.head())"
   ]
  },
  {
   "cell_type": "code",
   "execution_count": 16,
   "metadata": {},
   "outputs": [
    {
     "name": "stdout",
     "output_type": "stream",
     "text": [
      "(48830, 2)\n"
     ]
    },
    {
     "data": {
      "text/html": [
       "<div>\n",
       "<style scoped>\n",
       "    .dataframe tbody tr th:only-of-type {\n",
       "        vertical-align: middle;\n",
       "    }\n",
       "\n",
       "    .dataframe tbody tr th {\n",
       "        vertical-align: top;\n",
       "    }\n",
       "\n",
       "    .dataframe thead th {\n",
       "        text-align: right;\n",
       "    }\n",
       "</style>\n",
       "<table border=\"1\" class=\"dataframe\">\n",
       "  <thead>\n",
       "    <tr style=\"text-align: right;\">\n",
       "      <th></th>\n",
       "      <th>LD_episode</th>\n",
       "      <th>Dialogue</th>\n",
       "    </tr>\n",
       "  </thead>\n",
       "  <tbody>\n",
       "    <tr>\n",
       "      <th>0</th>\n",
       "      <td>True</td>\n",
       "      <td>Do you know what this is all about? Do you kno...</td>\n",
       "    </tr>\n",
       "    <tr>\n",
       "      <th>2</th>\n",
       "      <td>True</td>\n",
       "      <td>(pointing at Georges shirt) See, to me, that b...</td>\n",
       "    </tr>\n",
       "    <tr>\n",
       "      <th>4</th>\n",
       "      <td>True</td>\n",
       "      <td>Are you through?</td>\n",
       "    </tr>\n",
       "    <tr>\n",
       "      <th>6</th>\n",
       "      <td>True</td>\n",
       "      <td>You do of course try on, when you buy?</td>\n",
       "    </tr>\n",
       "    <tr>\n",
       "      <th>8</th>\n",
       "      <td>True</td>\n",
       "      <td>Yes, it was purple, I liked it, I dont actuall...</td>\n",
       "    </tr>\n",
       "  </tbody>\n",
       "</table>\n",
       "</div>"
      ],
      "text/plain": [
       "   LD_episode                                           Dialogue\n",
       "0        True  Do you know what this is all about? Do you kno...\n",
       "2        True  (pointing at Georges shirt) See, to me, that b...\n",
       "4        True                                   Are you through?\n",
       "6        True             You do of course try on, when you buy?\n",
       "8        True  Yes, it was purple, I liked it, I dont actuall..."
      ]
     },
     "execution_count": 16,
     "metadata": {},
     "output_type": "execute_result"
    }
   ],
   "source": [
    "clean_data = writer_dialogue.loc[:,['LD_episode','Dialogue']].drop_duplicates()\n",
    "print(clean_data.shape)\n",
    "clean_data.head()"
   ]
  },
  {
   "cell_type": "code",
   "execution_count": 17,
   "metadata": {},
   "outputs": [
    {
     "name": "stdout",
     "output_type": "stream",
     "text": [
      "0.33886954740937947\n"
     ]
    },
    {
     "data": {
      "image/png": "[encoded data removed]",
      "text/plain": [
       "<Figure size 432x288 with 1 Axes>"
      ]
     },
     "metadata": {},
     "output_type": "display_data"
    }
   ],
   "source": [
    "print(len(clean_data.loc[clean_data['LD_episode'] == True])/len(clean_data.index))\n",
    "sn.barplot(x=clean_data.LD_episode, y=clean_data.index)\n",
    "plt.show()"
   ]
  },
  {
   "cell_type": "markdown",
   "metadata": {},
   "source": [
    "Larry David contributed to 33.9% of the dialogue in Seinfield. Though still uneven, a machine learning algorithm may have a better time distinguishing if Larry David contributed to an episode or not than idenitfying individual writers of the show. This doesn't address the problem that Larry David co-wrote a large amount of shows with Jerry Seinfield."
   ]
  },
  {
   "cell_type": "markdown",
   "metadata": {},
   "source": [
    "#### Sci-kit Learn Method"
   ]
  },
  {
   "cell_type": "code",
   "execution_count": 33,
   "metadata": {},
   "outputs": [],
   "source": [
    "# packages that we will need specifically for this code\n",
    "from sklearn.feature_extraction.text import TfidfVectorizer\n",
    "from sklearn.feature_selection import chi2\n",
    "import numpy as np\n",
    "from sklearn.model_selection import train_test_split\n",
    "from sklearn.feature_extraction.text import CountVectorizer\n",
    "from sklearn.feature_extraction.text import TfidfTransformer\n",
    "from sklearn.naive_bayes import MultinomialNB\n",
    "from io import StringIO\n",
    "from sklearn.linear_model import LogisticRegression\n",
    "from sklearn.ensemble import RandomForestClassifier\n",
    "from sklearn.svm import LinearSVC\n",
    "from sklearn.model_selection import cross_val_score\n",
    "from sklearn.metrics import accuracy_score, roc_curve, auc"
   ]
  },
  {
   "cell_type": "code",
   "execution_count": 19,
   "metadata": {},
   "outputs": [
    {
     "data": {
      "text/html": [
       "<div>\n",
       "<style scoped>\n",
       "    .dataframe tbody tr th:only-of-type {\n",
       "        vertical-align: middle;\n",
       "    }\n",
       "\n",
       "    .dataframe tbody tr th {\n",
       "        vertical-align: top;\n",
       "    }\n",
       "\n",
       "    .dataframe thead th {\n",
       "        text-align: right;\n",
       "    }\n",
       "</style>\n",
       "<table border=\"1\" class=\"dataframe\">\n",
       "  <thead>\n",
       "    <tr style=\"text-align: right;\">\n",
       "      <th></th>\n",
       "      <th>LD_episode</th>\n",
       "      <th>Dialogue</th>\n",
       "      <th>category_id</th>\n",
       "    </tr>\n",
       "  </thead>\n",
       "  <tbody>\n",
       "    <tr>\n",
       "      <th>0</th>\n",
       "      <td>True</td>\n",
       "      <td>Do you know what this is all about? Do you kno...</td>\n",
       "      <td>0</td>\n",
       "    </tr>\n",
       "    <tr>\n",
       "      <th>2</th>\n",
       "      <td>True</td>\n",
       "      <td>(pointing at Georges shirt) See, to me, that b...</td>\n",
       "      <td>0</td>\n",
       "    </tr>\n",
       "    <tr>\n",
       "      <th>4</th>\n",
       "      <td>True</td>\n",
       "      <td>Are you through?</td>\n",
       "      <td>0</td>\n",
       "    </tr>\n",
       "    <tr>\n",
       "      <th>6</th>\n",
       "      <td>True</td>\n",
       "      <td>You do of course try on, when you buy?</td>\n",
       "      <td>0</td>\n",
       "    </tr>\n",
       "    <tr>\n",
       "      <th>8</th>\n",
       "      <td>True</td>\n",
       "      <td>Yes, it was purple, I liked it, I dont actuall...</td>\n",
       "      <td>0</td>\n",
       "    </tr>\n",
       "  </tbody>\n",
       "</table>\n",
       "</div>"
      ],
      "text/plain": [
       "   LD_episode                                           Dialogue  category_id\n",
       "0        True  Do you know what this is all about? Do you kno...            0\n",
       "2        True  (pointing at Georges shirt) See, to me, that b...            0\n",
       "4        True                                   Are you through?            0\n",
       "6        True             You do of course try on, when you buy?            0\n",
       "8        True  Yes, it was purple, I liked it, I dont actuall...            0"
      ]
     },
     "execution_count": 19,
     "metadata": {},
     "output_type": "execute_result"
    }
   ],
   "source": [
    "# adapted from https://towardsdatascience.com/multi-class-text-classification-with-scikit-learn-12f1e60e0a9f\n",
    "\n",
    "clean_data = clean_data[pd.notnull(clean_data['Dialogue'])]\n",
    "clean_data['category_id'] = clean_data['LD_episode'].factorize()[0]\n",
    "category_id_df = clean_data[['LD_episode', 'category_id']].drop_duplicates().sort_values('category_id')\n",
    "category_to_id = dict(category_id_df.values)\n",
    "id_to_category = dict(category_id_df[['category_id', 'LD_episode']].values)\n",
    "clean_data.head()"
   ]
  },
  {
   "cell_type": "code",
   "execution_count": 24,
   "metadata": {},
   "outputs": [
    {
     "data": {
      "text/plain": [
       "(48828, 8507)"
      ]
     },
     "execution_count": 24,
     "metadata": {},
     "output_type": "execute_result"
    }
   ],
   "source": [
    "# adapted from https://towardsdatascience.com/multi-class-text-classification-with-scikit-learn-12f1e60e0a9f\n",
    "# we extended the ngrams to include more than uni- and bi-grams \n",
    "tfidf = TfidfVectorizer(sublinear_tf=True, min_df=5, norm='l2', encoding='UTF-8', ngram_range=(1, 4), stop_words='english')\n",
    "\n",
    "features = tfidf.fit_transform(clean_data.Dialogue).toarray()\n",
    "\n",
    "labels = clean_data.category_id\n",
    "features.shape"
   ]
  },
  {
   "cell_type": "code",
   "execution_count": 25,
   "metadata": {},
   "outputs": [
    {
     "name": "stdout",
     "output_type": "stream",
     "text": [
      "# 'False':\n",
      "  . Most correlated unigrams:\n",
      ". dont\n",
      ". morty\n",
      "  . Most correlated bigrams:\n",
      ". getting married\n",
      ". bubble boy\n",
      "  . Most correlated trigrams:\n",
      ". pretzels making thirsty\n",
      ". hello oh hi\n",
      "  . Most correlated quadrigrams:\n",
      ". bennet robbins oppenheim taft\n",
      ". sagman bennet robbins oppenheim\n",
      "# 'True':\n",
      "  . Most correlated unigrams:\n",
      ". dont\n",
      ". morty\n",
      "  . Most correlated bigrams:\n",
      ". getting married\n",
      ". bubble boy\n",
      "  . Most correlated trigrams:\n",
      ". pretzels making thirsty\n",
      ". hello oh hi\n",
      "  . Most correlated quadrigrams:\n",
      ". bennet robbins oppenheim taft\n",
      ". sagman bennet robbins oppenheim\n"
     ]
    }
   ],
   "source": [
    "# adapted from https://towardsdatascience.com/multi-class-text-classification-with-scikit-learn-12f1e60e0a9f\n",
    "# we extended the code to include tri and quadri-grams\n",
    "N = 2\n",
    "for LD_episode, category_id in sorted(category_to_id.items()):\n",
    "    features_chi2 = chi2(features, labels == category_id)\n",
    "    indices = np.argsort(features_chi2[0])\n",
    "    feature_names = np.array(tfidf.get_feature_names())[indices]\n",
    "    unigrams = [v for v in feature_names if len(v.split(' ')) == 1]\n",
    "    bigrams = [v for v in feature_names if len(v.split(' ')) == 2]\n",
    "    trigrams = [v for v in feature_names if len(v.split(' ')) == 3]\n",
    "    quadrigrams = [v for v in feature_names if len(v.split(' ')) == 4]\n",
    "    print(\"# '{}':\".format(LD_episode))\n",
    "    print(\"  . Most correlated unigrams:\\n. {}\".format('\\n. '.join(unigrams[-N:])))\n",
    "    print(\"  . Most correlated bigrams:\\n. {}\".format('\\n. '.join(bigrams[-N:])))\n",
    "    print(\"  . Most correlated trigrams:\\n. {}\".format('\\n. '.join(trigrams[-N:])))\n",
    "    print(\"  . Most correlated quadrigrams:\\n. {}\".format('\\n. '.join(quadrigrams[-N:])))"
   ]
  },
  {
   "cell_type": "code",
   "execution_count": 26,
   "metadata": {},
   "outputs": [],
   "source": [
    "X_train, X_test, y_train, y_test = train_test_split(clean_data['Dialogue'], clean_data['LD_episode'], random_state = 42)\n",
    "count_vect = CountVectorizer()\n",
    "X_train_counts = count_vect.fit_transform(X_train)\n",
    "clf = MultinomialNB().fit(X_train_counts, y_train)"
   ]
  },
  {
   "cell_type": "code",
   "execution_count": 27,
   "metadata": {},
   "outputs": [],
   "source": [
    "X_test_counts = count_vect.transform(X_test)\n",
    "y_pred = clf.predict(X_test_counts)"
   ]
  },
  {
   "cell_type": "code",
   "execution_count": 28,
   "metadata": {},
   "outputs": [
    {
     "name": "stdout",
     "output_type": "stream",
     "text": [
      "0.7097566969771443\n"
     ]
    }
   ],
   "source": [
    "print(accuracy_score(y_pred, y_test))"
   ]
  },
  {
   "cell_type": "code",
   "execution_count": 41,
   "metadata": {},
   "outputs": [
    {
     "name": "stdout",
     "output_type": "stream",
     "text": [
      "0.6101497305242528\n"
     ]
    },
    {
     "data": {
      "image/png": "[encoded data removed]",
      "text/plain": [
       "<Figure size 432x288 with 1 Axes>"
      ]
     },
     "metadata": {},
     "output_type": "display_data"
    }
   ],
   "source": [
    "# the sklearn documentation seemed dated, https://stackoverflow.com/questions/25009284/how-to-plot-roc-curve-in-python\n",
    "# worked better\n",
    "# Compute ROC curve and ROC area for each class\n",
    "fpr = dict()\n",
    "tpr = dict()\n",
    "roc_auc = dict()\n",
    "n_classes = 2\n",
    "fpr, tpr, threshold = roc_curve(y_test, y_pred)\n",
    "roc_auc = auc(fpr, tpr)\n",
    "\n",
    "# method I: plt\n",
    "plt.title('Receiver Operating Characteristic')\n",
    "plt.plot(fpr, tpr, 'b', label = 'AUC = %0.2f' % roc_auc)\n",
    "plt.legend(loc = 'lower right')\n",
    "plt.plot([0, 1], [0, 1],'r--')\n",
    "plt.xlim([0, 1])\n",
    "plt.ylim([0, 1])\n",
    "plt.ylabel('True Positive Rate')\n",
    "plt.xlabel('False Positive Rate')\n",
    "plt.show()"
   ]
  },
  {
   "cell_type": "code",
   "execution_count": 31,
   "metadata": {},
   "outputs": [
    {
     "data": {
      "image/png": "[encoded data removed]",
      "text/plain": [
       "<Figure size 432x288 with 1 Axes>"
      ]
     },
     "metadata": {},
     "output_type": "display_data"
    }
   ],
   "source": [
    "# adapted from https://towardsdatascience.com/multi-class-text-classification-with-scikit-learn-12f1e60e0a9f\n",
    "# the features and labels are extended above to include more than uni- and bi-grams.\n",
    "\n",
    "models = [\n",
    "    RandomForestClassifier(n_estimators=200, max_depth=3, random_state=0),\n",
    "    LinearSVC(),\n",
    "    MultinomialNB(),\n",
    "    LogisticRegression(random_state=0),\n",
    "]\n",
    "CV = 5\n",
    "cv_df = pd.DataFrame(index=range(CV * len(models)))\n",
    "entries = []\n",
    "for model in models:\n",
    "    model_name = model.__class__.__name__\n",
    "    accuracies = cross_val_score(model, features, labels, scoring='accuracy', cv=CV)\n",
    "    for fold_idx, accuracy in enumerate(accuracies):\n",
    "        entries.append((model_name, fold_idx, accuracy))\n",
    "cv_df = pd.DataFrame(entries, columns=['model_name', 'fold_idx', 'accuracy'])\n",
    "\n",
    "sn.boxplot(x='model_name', y='accuracy', data=cv_df)\n",
    "sn.stripplot(x='model_name', y='accuracy', data=cv_df, \n",
    "              size=8, jitter=True, edgecolor=\"gray\", linewidth=2)\n",
    "plt.show()"
   ]
  },
  {
   "cell_type": "code",
   "execution_count": null,
   "metadata": {},
   "outputs": [],
   "source": []
  }
 ],
 "metadata": {
  "kernelspec": {
   "display_name": "Python 3",
   "language": "python",
   "name": "python3"
  },
  "language_info": {
   "codemirror_mode": {
    "name": "ipython",
    "version": 3
   },
   "file_extension": ".py",
   "mimetype": "text/x-python",
   "name": "python",
   "nbconvert_exporter": "python",
   "pygments_lexer": "ipython3",
   "version": "3.6.5"
  }
 },
 "nbformat": 4,
 "nbformat_minor": 2
}
